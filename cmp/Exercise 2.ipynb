{
 "cells": [
  {
   "cell_type": "code",
   "execution_count": 1,
   "metadata": {},
   "outputs": [
    {
     "name": "stdout",
     "output_type": "stream",
     "text": [
      " data_exercise1.csv\t\t  requirements.txt\t  test.csv\t   venv\r\n",
      "'Data Scientist Assignment.pdf'   sample_submission.csv   train.csv\r\n",
      "'Exercise 2.ipynb'\t\t  submission.csv\t  Untitled.ipynb\r\n"
     ]
    }
   ],
   "source": [
    "! ls"
   ]
  },
  {
   "cell_type": "code",
   "execution_count": 2,
   "metadata": {},
   "outputs": [],
   "source": [
    "import pandas as pd\n",
    "import seaborn as sns\n",
    "import numpy as np\n",
    "from matplotlib import pyplot as plot"
   ]
  },
  {
   "cell_type": "code",
   "execution_count": 3,
   "metadata": {},
   "outputs": [],
   "source": [
    "train = pd.read_csv(\"train.csv\")"
   ]
  },
  {
   "cell_type": "markdown",
   "metadata": {},
   "source": [
    "# Exploratory"
   ]
  },
  {
   "cell_type": "markdown",
   "metadata": {},
   "source": [
    "## Basic Checks"
   ]
  },
  {
   "cell_type": "code",
   "execution_count": 4,
   "metadata": {},
   "outputs": [
    {
     "data": {
      "text/html": [
       "<div>\n",
       "<style scoped>\n",
       "    .dataframe tbody tr th:only-of-type {\n",
       "        vertical-align: middle;\n",
       "    }\n",
       "\n",
       "    .dataframe tbody tr th {\n",
       "        vertical-align: top;\n",
       "    }\n",
       "\n",
       "    .dataframe thead th {\n",
       "        text-align: right;\n",
       "    }\n",
       "</style>\n",
       "<table border=\"1\" class=\"dataframe\">\n",
       "  <thead>\n",
       "    <tr style=\"text-align: right;\">\n",
       "      <th></th>\n",
       "      <th>product_type</th>\n",
       "      <th>user_id</th>\n",
       "      <th>join_date</th>\n",
       "      <th>hidden</th>\n",
       "      <th>product</th>\n",
       "      <th>STV</th>\n",
       "      <th>target</th>\n",
       "      <th>credit_card_level</th>\n",
       "      <th>is_lp</th>\n",
       "      <th>aff_type</th>\n",
       "      <th>is_cancelled</th>\n",
       "      <th>country_segment</th>\n",
       "    </tr>\n",
       "  </thead>\n",
       "  <tbody>\n",
       "    <tr>\n",
       "      <th>0</th>\n",
       "      <td>type_ex</td>\n",
       "      <td>7.0</td>\n",
       "      <td>2018-12-01 00:01:45</td>\n",
       "      <td>0</td>\n",
       "      <td>product_1</td>\n",
       "      <td>8.25</td>\n",
       "      <td>8.25</td>\n",
       "      <td>standard</td>\n",
       "      <td>0</td>\n",
       "      <td>PPL</td>\n",
       "      <td>NaN</td>\n",
       "      <td>US</td>\n",
       "    </tr>\n",
       "    <tr>\n",
       "      <th>1</th>\n",
       "      <td>type_ex</td>\n",
       "      <td>20.0</td>\n",
       "      <td>2018-12-01 00:06:05</td>\n",
       "      <td>0</td>\n",
       "      <td>product_2</td>\n",
       "      <td>8.25</td>\n",
       "      <td>8.25</td>\n",
       "      <td>standard</td>\n",
       "      <td>0</td>\n",
       "      <td>PPL</td>\n",
       "      <td>NaN</td>\n",
       "      <td>US</td>\n",
       "    </tr>\n",
       "    <tr>\n",
       "      <th>2</th>\n",
       "      <td>type_ex</td>\n",
       "      <td>22.0</td>\n",
       "      <td>2018-12-01 00:06:23</td>\n",
       "      <td>0</td>\n",
       "      <td>product_3</td>\n",
       "      <td>8.25</td>\n",
       "      <td>8.25</td>\n",
       "      <td>prepaid</td>\n",
       "      <td>0</td>\n",
       "      <td>PPL</td>\n",
       "      <td>NaN</td>\n",
       "      <td>US</td>\n",
       "    </tr>\n",
       "  </tbody>\n",
       "</table>\n",
       "</div>"
      ],
      "text/plain": [
       "  product_type  user_id            join_date  hidden    product   STV  target  \\\n",
       "0      type_ex      7.0  2018-12-01 00:01:45       0  product_1  8.25    8.25   \n",
       "1      type_ex     20.0  2018-12-01 00:06:05       0  product_2  8.25    8.25   \n",
       "2      type_ex     22.0  2018-12-01 00:06:23       0  product_3  8.25    8.25   \n",
       "\n",
       "  credit_card_level  is_lp aff_type  is_cancelled country_segment  \n",
       "0          standard      0      PPL           NaN              US  \n",
       "1          standard      0      PPL           NaN              US  \n",
       "2           prepaid      0      PPL           NaN              US  "
      ]
     },
     "execution_count": 4,
     "metadata": {},
     "output_type": "execute_result"
    }
   ],
   "source": [
    "train.head(3)"
   ]
  },
  {
   "cell_type": "code",
   "execution_count": 5,
   "metadata": {},
   "outputs": [],
   "source": [
    "TARGET = \"target\""
   ]
  },
  {
   "cell_type": "code",
   "execution_count": 6,
   "metadata": {},
   "outputs": [
    {
     "data": {
      "text/html": [
       "<div>\n",
       "<style scoped>\n",
       "    .dataframe tbody tr th:only-of-type {\n",
       "        vertical-align: middle;\n",
       "    }\n",
       "\n",
       "    .dataframe tbody tr th {\n",
       "        vertical-align: top;\n",
       "    }\n",
       "\n",
       "    .dataframe thead th {\n",
       "        text-align: right;\n",
       "    }\n",
       "</style>\n",
       "<table border=\"1\" class=\"dataframe\">\n",
       "  <thead>\n",
       "    <tr style=\"text-align: right;\">\n",
       "      <th></th>\n",
       "      <th>user_id</th>\n",
       "      <th>hidden</th>\n",
       "      <th>STV</th>\n",
       "      <th>target</th>\n",
       "      <th>is_lp</th>\n",
       "      <th>is_cancelled</th>\n",
       "    </tr>\n",
       "  </thead>\n",
       "  <tbody>\n",
       "    <tr>\n",
       "      <th>count</th>\n",
       "      <td>8.811270e+05</td>\n",
       "      <td>881127.000000</td>\n",
       "      <td>881127.000000</td>\n",
       "      <td>881127.000000</td>\n",
       "      <td>881127.000000</td>\n",
       "      <td>807454.000000</td>\n",
       "    </tr>\n",
       "    <tr>\n",
       "      <th>mean</th>\n",
       "      <td>5.871019e+05</td>\n",
       "      <td>0.269827</td>\n",
       "      <td>4.897234</td>\n",
       "      <td>6.290185</td>\n",
       "      <td>0.270388</td>\n",
       "      <td>0.388225</td>\n",
       "    </tr>\n",
       "    <tr>\n",
       "      <th>std</th>\n",
       "      <td>3.468950e+05</td>\n",
       "      <td>0.443870</td>\n",
       "      <td>7.580178</td>\n",
       "      <td>14.620387</td>\n",
       "      <td>0.444160</td>\n",
       "      <td>0.487347</td>\n",
       "    </tr>\n",
       "    <tr>\n",
       "      <th>min</th>\n",
       "      <td>0.000000e+00</td>\n",
       "      <td>0.000000</td>\n",
       "      <td>-44.282250</td>\n",
       "      <td>-270.203500</td>\n",
       "      <td>0.000000</td>\n",
       "      <td>0.000000</td>\n",
       "    </tr>\n",
       "    <tr>\n",
       "      <th>25%</th>\n",
       "      <td>2.858625e+05</td>\n",
       "      <td>0.000000</td>\n",
       "      <td>0.397500</td>\n",
       "      <td>0.397500</td>\n",
       "      <td>0.000000</td>\n",
       "      <td>0.000000</td>\n",
       "    </tr>\n",
       "    <tr>\n",
       "      <th>50%</th>\n",
       "      <td>5.771410e+05</td>\n",
       "      <td>0.000000</td>\n",
       "      <td>0.397500</td>\n",
       "      <td>0.397500</td>\n",
       "      <td>0.000000</td>\n",
       "      <td>0.000000</td>\n",
       "    </tr>\n",
       "    <tr>\n",
       "      <th>75%</th>\n",
       "      <td>8.952105e+05</td>\n",
       "      <td>1.000000</td>\n",
       "      <td>8.250000</td>\n",
       "      <td>8.250000</td>\n",
       "      <td>1.000000</td>\n",
       "      <td>1.000000</td>\n",
       "    </tr>\n",
       "    <tr>\n",
       "      <th>max</th>\n",
       "      <td>1.188692e+06</td>\n",
       "      <td>1.000000</td>\n",
       "      <td>98.397150</td>\n",
       "      <td>281.811600</td>\n",
       "      <td>1.000000</td>\n",
       "      <td>1.000000</td>\n",
       "    </tr>\n",
       "  </tbody>\n",
       "</table>\n",
       "</div>"
      ],
      "text/plain": [
       "            user_id         hidden            STV         target  \\\n",
       "count  8.811270e+05  881127.000000  881127.000000  881127.000000   \n",
       "mean   5.871019e+05       0.269827       4.897234       6.290185   \n",
       "std    3.468950e+05       0.443870       7.580178      14.620387   \n",
       "min    0.000000e+00       0.000000     -44.282250    -270.203500   \n",
       "25%    2.858625e+05       0.000000       0.397500       0.397500   \n",
       "50%    5.771410e+05       0.000000       0.397500       0.397500   \n",
       "75%    8.952105e+05       1.000000       8.250000       8.250000   \n",
       "max    1.188692e+06       1.000000      98.397150     281.811600   \n",
       "\n",
       "               is_lp   is_cancelled  \n",
       "count  881127.000000  807454.000000  \n",
       "mean        0.270388       0.388225  \n",
       "std         0.444160       0.487347  \n",
       "min         0.000000       0.000000  \n",
       "25%         0.000000       0.000000  \n",
       "50%         0.000000       0.000000  \n",
       "75%         1.000000       1.000000  \n",
       "max         1.000000       1.000000  "
      ]
     },
     "execution_count": 6,
     "metadata": {},
     "output_type": "execute_result"
    }
   ],
   "source": [
    "train.describe()"
   ]
  },
  {
   "cell_type": "markdown",
   "metadata": {},
   "source": [
    "**Casting to datetime**"
   ]
  },
  {
   "cell_type": "code",
   "execution_count": 7,
   "metadata": {},
   "outputs": [],
   "source": [
    "train.join_date = pd.to_datetime(train.join_date)"
   ]
  },
  {
   "cell_type": "markdown",
   "metadata": {},
   "source": [
    "### Duplicated samples?"
   ]
  },
  {
   "cell_type": "markdown",
   "metadata": {},
   "source": [
    "I will look for duplicated samples, creating an id for each row, using the product_type and user_id values."
   ]
  },
  {
   "cell_type": "code",
   "execution_count": 8,
   "metadata": {},
   "outputs": [
    {
     "name": "stdout",
     "output_type": "stream",
     "text": [
      "['type_ex' 'type_p' 'type_u' 'type_x']\n",
      "total distinct user_id: 466844\n"
     ]
    }
   ],
   "source": [
    "print(train.product_type.unique())\n",
    "print(f'total distinct user_id: {len(train.user_id.unique())}')"
   ]
  },
  {
   "cell_type": "code",
   "execution_count": 9,
   "metadata": {},
   "outputs": [
    {
     "name": "stdout",
     "output_type": "stream",
     "text": [
      "total rows: 881127\n",
      "total distinct ids: 881127\n"
     ]
    }
   ],
   "source": [
    "train['id'] = train.product_type + \"_\" + train.user_id.astype(str)\n",
    "ID = \"id\"\n",
    "print(f\"total rows: {len(train)}\")\n",
    "print(f\"total distinct ids: {len(train.id.unique())}\");"
   ]
  },
  {
   "cell_type": "markdown",
   "metadata": {},
   "source": [
    "### Nulls"
   ]
  },
  {
   "cell_type": "markdown",
   "metadata": {},
   "source": [
    "Percent of nulls, just in columns with null values."
   ]
  },
  {
   "cell_type": "code",
   "execution_count": 10,
   "metadata": {},
   "outputs": [
    {
     "name": "stdout",
     "output_type": "stream",
     "text": [
      "is_cancelled    9.124111\n",
      "aff_type        0.000227\n",
      "dtype: float64\n"
     ]
    },
    {
     "data": {
      "image/png": "[encoded data removed]",
      "text/plain": [
       "<Figure size 432x288 with 1 Axes>"
      ]
     },
     "metadata": {
      "needs_background": "light"
     },
     "output_type": "display_data"
    }
   ],
   "source": [
    "import matplotlib.pyplot as plt\n",
    "nulls = (100.0*train.isnull().sum()/train.count()).sort_values(ascending=False)\n",
    "nulls = nulls[nulls > 0]\n",
    "print(nulls)\n",
    "g = sns.barplot(x=nulls.index,y=nulls.values)\n",
    "g.set_xticklabels(g.get_xticklabels(), rotation=90)\n",
    "plt.show()"
   ]
  },
  {
   "cell_type": "markdown",
   "metadata": {},
   "source": [
    "### Product type\n",
    "I will try to understand peculiar relations between different product types"
   ]
  },
  {
   "cell_type": "markdown",
   "metadata": {},
   "source": [
    "There will be equal users quantity and users quantity with p product_type (because all users start with that):"
   ]
  },
  {
   "cell_type": "code",
   "execution_count": 11,
   "metadata": {},
   "outputs": [
    {
     "name": "stdout",
     "output_type": "stream",
     "text": [
      "Number of user_ids:466844\n"
     ]
    }
   ],
   "source": [
    "assert(len(train.user_id.unique())==len(train[train.product_type=='type_p']))\n",
    "print(f\"Number of user_ids:{len(train.user_id.unique())}\")"
   ]
  },
  {
   "cell_type": "markdown",
   "metadata": {},
   "source": [
    "The other product types have less or equal quantity of users that the product_type p, so I want to know how big is its market"
   ]
  },
  {
   "cell_type": "code",
   "execution_count": 12,
   "metadata": {},
   "outputs": [
    {
     "name": "stdout",
     "output_type": "stream",
     "text": [
      "type_ex - share: 15.78 - share_ltv:11.17 - qty:73673\n",
      "type_p - share: 100.0 - share_ltv:43.29 - qty:466844\n",
      "type_u - share: 12.11 - share_ltv:5.9 - qty:56554\n",
      "type_x - share: 60.85 - share_ltv:39.65 - qty:284056\n"
     ]
    }
   ],
   "source": [
    "total_users = len(train.user_id.unique())\n",
    "total_ltv = train[TARGET].sum()\n",
    "for ptype in train.product_type.unique():\n",
    "    total_ptype_users = train[train.product_type==ptype].user_id.count()\n",
    "    total_ptype_ltv = train[train.product_type==ptype].target.sum()\n",
    "    share = 100.0*total_ptype_users/total_users\n",
    "    share_ltv = 100.0*total_ptype_ltv/total_ltv\n",
    "    print(f\"{ptype} - share: {round(share,2)} - share_ltv:{round(share_ltv,2)} - qty:{total_ptype_users}\")"
   ]
  },
  {
   "cell_type": "markdown",
   "metadata": {},
   "source": [
    "**I conclude that the importance order in product types is: type_p, type_x, type_ex and type_u**"
   ]
  },
  {
   "cell_type": "code",
   "execution_count": 13,
   "metadata": {},
   "outputs": [],
   "source": [
    "PRODUCT_TYPE_IMPORTANCE_ORDER=[\"type_p\", \"type_x\", \"type_ex\", \"type_u\"]"
   ]
  },
  {
   "cell_type": "markdown",
   "metadata": {},
   "source": [
    "## Target (LTV)"
   ]
  },
  {
   "cell_type": "markdown",
   "metadata": {},
   "source": [
    "Understanding of our Target var."
   ]
  },
  {
   "cell_type": "code",
   "execution_count": 14,
   "metadata": {},
   "outputs": [
    {
     "data": {
      "text/plain": [
       "count    881127.000000\n",
       "mean          6.290185\n",
       "std          14.620387\n",
       "min        -270.203500\n",
       "25%           0.397500\n",
       "50%           0.397500\n",
       "75%           8.250000\n",
       "max         281.811600\n",
       "Name: target, dtype: float64"
      ]
     },
     "execution_count": 14,
     "metadata": {},
     "output_type": "execute_result"
    }
   ],
   "source": [
    "train[TARGET].describe()"
   ]
  },
  {
   "cell_type": "code",
   "execution_count": 15,
   "metadata": {},
   "outputs": [
    {
     "data": {
      "text/plain": [
       "<seaborn.axisgrid.FacetGrid at 0x7f015c17a6d8>"
      ]
     },
     "execution_count": 15,
     "metadata": {},
     "output_type": "execute_result"
    },
    {
     "data": {
      "image/png": "[encoded data removed]",
      "text/plain": [
       "<Figure size 360x360 with 1 Axes>"
      ]
     },
     "metadata": {
      "needs_background": "light"
     },
     "output_type": "display_data"
    }
   ],
   "source": [
    "sns.displot(train,x=TARGET,bins=30)"
   ]
  },
  {
   "cell_type": "markdown",
   "metadata": {},
   "source": [
    "### What distribution has each product_type?"
   ]
  },
  {
   "cell_type": "code",
   "execution_count": 16,
   "metadata": {},
   "outputs": [],
   "source": [
    "def describe_categorical(dataframe,category):\n",
    "    d = dataframe.groupby(category).agg({ID:['count'],TARGET:['sum','mean','std']})\n",
    "    d.columns = d.columns.get_level_values(1).astype(str)\n",
    "    d['share'] = round(100*d['count']/d['count'].sum(),2)\n",
    "    #d['share'] = d['share'].map('{:.2f}'.format)\n",
    "    d['mean'] = d['mean'].map('{:,.2f}'.format)\n",
    "    d['std'] = d['std'].map('{:,.2f}'.format)\n",
    "    d['sum'] = round(d['sum'],0)\n",
    "    return d"
   ]
  },
  {
   "cell_type": "markdown",
   "metadata": {},
   "source": [
    "Showing the market share in each product_type:"
   ]
  },
  {
   "cell_type": "code",
   "execution_count": 17,
   "metadata": {},
   "outputs": [
    {
     "data": {
      "text/html": [
       "<div>\n",
       "<style scoped>\n",
       "    .dataframe tbody tr th:only-of-type {\n",
       "        vertical-align: middle;\n",
       "    }\n",
       "\n",
       "    .dataframe tbody tr th {\n",
       "        vertical-align: top;\n",
       "    }\n",
       "\n",
       "    .dataframe thead th {\n",
       "        text-align: right;\n",
       "    }\n",
       "</style>\n",
       "<table border=\"1\" class=\"dataframe\">\n",
       "  <thead>\n",
       "    <tr style=\"text-align: right;\">\n",
       "      <th></th>\n",
       "      <th>count</th>\n",
       "      <th>sum</th>\n",
       "      <th>mean</th>\n",
       "      <th>std</th>\n",
       "      <th>share</th>\n",
       "    </tr>\n",
       "    <tr>\n",
       "      <th>product_type</th>\n",
       "      <th></th>\n",
       "      <th></th>\n",
       "      <th></th>\n",
       "      <th></th>\n",
       "      <th></th>\n",
       "    </tr>\n",
       "  </thead>\n",
       "  <tbody>\n",
       "    <tr>\n",
       "      <th>type_p</th>\n",
       "      <td>466844</td>\n",
       "      <td>2399078.0</td>\n",
       "      <td>5.14</td>\n",
       "      <td>12.19</td>\n",
       "      <td>52.98</td>\n",
       "    </tr>\n",
       "    <tr>\n",
       "      <th>type_x</th>\n",
       "      <td>284056</td>\n",
       "      <td>2197432.0</td>\n",
       "      <td>7.74</td>\n",
       "      <td>19.08</td>\n",
       "      <td>32.24</td>\n",
       "    </tr>\n",
       "    <tr>\n",
       "      <th>type_ex</th>\n",
       "      <td>73673</td>\n",
       "      <td>618915.0</td>\n",
       "      <td>8.40</td>\n",
       "      <td>1.16</td>\n",
       "      <td>8.36</td>\n",
       "    </tr>\n",
       "    <tr>\n",
       "      <th>type_u</th>\n",
       "      <td>56554</td>\n",
       "      <td>327026.0</td>\n",
       "      <td>5.78</td>\n",
       "      <td>15.69</td>\n",
       "      <td>6.42</td>\n",
       "    </tr>\n",
       "  </tbody>\n",
       "</table>\n",
       "</div>"
      ],
      "text/plain": [
       "               count        sum  mean    std  share\n",
       "product_type                                       \n",
       "type_p        466844  2399078.0  5.14  12.19  52.98\n",
       "type_x        284056  2197432.0  7.74  19.08  32.24\n",
       "type_ex        73673   618915.0  8.40   1.16   8.36\n",
       "type_u         56554   327026.0  5.78  15.69   6.42"
      ]
     },
     "execution_count": 17,
     "metadata": {},
     "output_type": "execute_result"
    }
   ],
   "source": [
    "describe_categorical(train, \"product_type\").sort_values(by=\"share\",ascending=False)"
   ]
  },
  {
   "cell_type": "markdown",
   "metadata": {},
   "source": [
    "Target distribution by type in US country segment:"
   ]
  },
  {
   "cell_type": "code",
   "execution_count": 18,
   "metadata": {},
   "outputs": [
    {
     "data": {
      "text/plain": [
       "<seaborn.axisgrid.FacetGrid at 0x7f0161b20780>"
      ]
     },
     "execution_count": 18,
     "metadata": {},
     "output_type": "execute_result"
    },
    {
     "data": {
      "image/png": "[encoded data removed]",
      "text/plain": [
       "<Figure size 1440x360 with 4 Axes>"
      ]
     },
     "metadata": {
      "needs_background": "light"
     },
     "output_type": "display_data"
    }
   ],
   "source": [
    "sns.displot(train, \n",
    "            x=TARGET, \n",
    "            col=\"product_type\",\n",
    "            bins=50,\n",
    "            col_order=PRODUCT_TYPE_IMPORTANCE_ORDER)"
   ]
  },
  {
   "cell_type": "markdown",
   "metadata": {},
   "source": [
    "Target distribution by type in the other ones countries(distinct to US):"
   ]
  },
  {
   "cell_type": "code",
   "execution_count": 19,
   "metadata": {},
   "outputs": [
    {
     "data": {
      "image/png": "[encoded data removed]",
      "text/plain": [
       "<Figure size 720x1440 with 1 Axes>"
      ]
     },
     "metadata": {
      "needs_background": "light"
     },
     "output_type": "display_data"
    }
   ],
   "source": [
    "plt.figure(figsize=(10,20))\n",
    "ax = sns.boxplot(x=TARGET, y=\"country_segment\", hue=\"product_type\",\n",
    "                    data=train, showfliers=False, hue_order=PRODUCT_TYPE_IMPORTANCE_ORDER)"
   ]
  },
  {
   "cell_type": "markdown",
   "metadata": {},
   "source": [
    "Zooming in over type_ex product type LTV values:"
   ]
  },
  {
   "cell_type": "code",
   "execution_count": 20,
   "metadata": {},
   "outputs": [
    {
     "data": {
      "image/png": "[encoded data removed]",
      "text/plain": [
       "<Figure size 432x288 with 1 Axes>"
      ]
     },
     "metadata": {
      "needs_background": "light"
     },
     "output_type": "display_data"
    }
   ],
   "source": [
    "ax = sns.boxplot(x=TARGET,  \n",
    "                 y=\"country_segment\",\n",
    "                 data=train[train.product_type=='type_ex'], \n",
    "                 showfliers=True)"
   ]
  },
  {
   "cell_type": "markdown",
   "metadata": {},
   "source": [
    "### Average Selling Price (ASP)"
   ]
  },
  {
   "cell_type": "code",
   "execution_count": 21,
   "metadata": {},
   "outputs": [
    {
     "data": {
      "text/html": [
       "<div>\n",
       "<style scoped>\n",
       "    .dataframe tbody tr th:only-of-type {\n",
       "        vertical-align: middle;\n",
       "    }\n",
       "\n",
       "    .dataframe tbody tr th {\n",
       "        vertical-align: top;\n",
       "    }\n",
       "\n",
       "    .dataframe thead th {\n",
       "        text-align: right;\n",
       "    }\n",
       "</style>\n",
       "<table border=\"1\" class=\"dataframe\">\n",
       "  <thead>\n",
       "    <tr style=\"text-align: right;\">\n",
       "      <th>product_type</th>\n",
       "      <th>type_ex</th>\n",
       "      <th>type_p</th>\n",
       "      <th>type_u</th>\n",
       "      <th>type_x</th>\n",
       "    </tr>\n",
       "    <tr>\n",
       "      <th>country_segment</th>\n",
       "      <th></th>\n",
       "      <th></th>\n",
       "      <th></th>\n",
       "      <th></th>\n",
       "    </tr>\n",
       "  </thead>\n",
       "  <tbody>\n",
       "    <tr>\n",
       "      <th>AU</th>\n",
       "      <td>8.403298</td>\n",
       "      <td>6.075102</td>\n",
       "      <td>5.568671</td>\n",
       "      <td>9.880369</td>\n",
       "    </tr>\n",
       "    <tr>\n",
       "      <th>CA</th>\n",
       "      <td>8.404243</td>\n",
       "      <td>4.904526</td>\n",
       "      <td>4.644973</td>\n",
       "      <td>7.456196</td>\n",
       "    </tr>\n",
       "    <tr>\n",
       "      <th>CL</th>\n",
       "      <td>8.250000</td>\n",
       "      <td>8.757987</td>\n",
       "      <td>9.381839</td>\n",
       "      <td>12.075976</td>\n",
       "    </tr>\n",
       "    <tr>\n",
       "      <th>GB</th>\n",
       "      <td>8.406977</td>\n",
       "      <td>6.888683</td>\n",
       "      <td>8.604821</td>\n",
       "      <td>10.927505</td>\n",
       "    </tr>\n",
       "    <tr>\n",
       "      <th>IL</th>\n",
       "      <td>8.269053</td>\n",
       "      <td>15.315441</td>\n",
       "      <td>15.487969</td>\n",
       "      <td>24.065491</td>\n",
       "    </tr>\n",
       "    <tr>\n",
       "      <th>LK</th>\n",
       "      <td>8.382000</td>\n",
       "      <td>3.260861</td>\n",
       "      <td>3.064826</td>\n",
       "      <td>3.086017</td>\n",
       "    </tr>\n",
       "    <tr>\n",
       "      <th>MY</th>\n",
       "      <td>8.281772</td>\n",
       "      <td>6.455833</td>\n",
       "      <td>6.117580</td>\n",
       "      <td>8.175909</td>\n",
       "    </tr>\n",
       "    <tr>\n",
       "      <th>NG</th>\n",
       "      <td>8.322329</td>\n",
       "      <td>4.434451</td>\n",
       "      <td>3.346757</td>\n",
       "      <td>3.153550</td>\n",
       "    </tr>\n",
       "    <tr>\n",
       "      <th>NZ</th>\n",
       "      <td>8.380625</td>\n",
       "      <td>9.064854</td>\n",
       "      <td>7.970277</td>\n",
       "      <td>11.201269</td>\n",
       "    </tr>\n",
       "    <tr>\n",
       "      <th>Other Countries</th>\n",
       "      <td>8.330785</td>\n",
       "      <td>6.065686</td>\n",
       "      <td>5.986185</td>\n",
       "      <td>8.132771</td>\n",
       "    </tr>\n",
       "    <tr>\n",
       "      <th>RU</th>\n",
       "      <td>8.273174</td>\n",
       "      <td>4.445972</td>\n",
       "      <td>3.438386</td>\n",
       "      <td>3.600322</td>\n",
       "    </tr>\n",
       "    <tr>\n",
       "      <th>SG</th>\n",
       "      <td>8.315166</td>\n",
       "      <td>8.791878</td>\n",
       "      <td>8.354039</td>\n",
       "      <td>12.630928</td>\n",
       "    </tr>\n",
       "    <tr>\n",
       "      <th>TH</th>\n",
       "      <td>8.250000</td>\n",
       "      <td>3.899117</td>\n",
       "      <td>3.908636</td>\n",
       "      <td>4.550133</td>\n",
       "    </tr>\n",
       "    <tr>\n",
       "      <th>US</th>\n",
       "      <td>8.431596</td>\n",
       "      <td>4.770526</td>\n",
       "      <td>5.745184</td>\n",
       "      <td>7.441873</td>\n",
       "    </tr>\n",
       "    <tr>\n",
       "      <th>ZA</th>\n",
       "      <td>8.313584</td>\n",
       "      <td>6.861852</td>\n",
       "      <td>6.513894</td>\n",
       "      <td>7.992031</td>\n",
       "    </tr>\n",
       "  </tbody>\n",
       "</table>\n",
       "</div>"
      ],
      "text/plain": [
       "product_type      type_ex     type_p     type_u     type_x\n",
       "country_segment                                           \n",
       "AU               8.403298   6.075102   5.568671   9.880369\n",
       "CA               8.404243   4.904526   4.644973   7.456196\n",
       "CL               8.250000   8.757987   9.381839  12.075976\n",
       "GB               8.406977   6.888683   8.604821  10.927505\n",
       "IL               8.269053  15.315441  15.487969  24.065491\n",
       "LK               8.382000   3.260861   3.064826   3.086017\n",
       "MY               8.281772   6.455833   6.117580   8.175909\n",
       "NG               8.322329   4.434451   3.346757   3.153550\n",
       "NZ               8.380625   9.064854   7.970277  11.201269\n",
       "Other Countries  8.330785   6.065686   5.986185   8.132771\n",
       "RU               8.273174   4.445972   3.438386   3.600322\n",
       "SG               8.315166   8.791878   8.354039  12.630928\n",
       "TH               8.250000   3.899117   3.908636   4.550133\n",
       "US               8.431596   4.770526   5.745184   7.441873\n",
       "ZA               8.313584   6.861852   6.513894   7.992031"
      ]
     },
     "execution_count": 21,
     "metadata": {},
     "output_type": "execute_result"
    }
   ],
   "source": [
    "pd.pivot_table(train, values='target', index=['country_segment'],\n",
    "                       columns=['product_type'], aggfunc=np.mean)"
   ]
  },
  {
   "cell_type": "markdown",
   "metadata": {},
   "source": [
    "## Categorical Columns\n",
    "In the next subsections, I will try to understand the relationship between our categorical variables and our TARGET var. In order to do that, I will use boxplots, because it will show in a very simple way if the analyzed var change its target associated values, when changes its own values."
   ]
  },
  {
   "cell_type": "markdown",
   "metadata": {},
   "source": [
    "List of all categorical variables:"
   ]
  },
  {
   "cell_type": "code",
   "execution_count": 22,
   "metadata": {},
   "outputs": [
    {
     "name": "stdout",
     "output_type": "stream",
     "text": [
      "Categirical cols:\n",
      " + product_type\n",
      " + product\n",
      " + credit_card_level\n",
      " + aff_type\n",
      " + country_segment\n"
     ]
    }
   ],
   "source": [
    "columns_to_avoid = [TARGET, ID]\n",
    "categorical_cols = [c for c in list(train.select_dtypes(include='object').columns) if c not in columns_to_avoid]\n",
    "print(\"Categirical cols:\")\n",
    "for c in categorical_cols:\n",
    "    print(\" + \"+c)"
   ]
  },
  {
   "cell_type": "markdown",
   "metadata": {},
   "source": [
    "I will look the countries information in order to just analyze the most important ones in share market."
   ]
  },
  {
   "cell_type": "code",
   "execution_count": 23,
   "metadata": {},
   "outputs": [
    {
     "data": {
      "text/html": [
       "<div>\n",
       "<style scoped>\n",
       "    .dataframe tbody tr th:only-of-type {\n",
       "        vertical-align: middle;\n",
       "    }\n",
       "\n",
       "    .dataframe tbody tr th {\n",
       "        vertical-align: top;\n",
       "    }\n",
       "\n",
       "    .dataframe thead th {\n",
       "        text-align: right;\n",
       "    }\n",
       "</style>\n",
       "<table border=\"1\" class=\"dataframe\">\n",
       "  <thead>\n",
       "    <tr style=\"text-align: right;\">\n",
       "      <th></th>\n",
       "      <th>count</th>\n",
       "      <th>sum</th>\n",
       "      <th>mean</th>\n",
       "      <th>std</th>\n",
       "      <th>share</th>\n",
       "      <th>cumulative_share</th>\n",
       "    </tr>\n",
       "    <tr>\n",
       "      <th>country_segment</th>\n",
       "      <th></th>\n",
       "      <th></th>\n",
       "      <th></th>\n",
       "      <th></th>\n",
       "      <th></th>\n",
       "      <th></th>\n",
       "    </tr>\n",
       "  </thead>\n",
       "  <tbody>\n",
       "    <tr>\n",
       "      <th>US</th>\n",
       "      <td>624890</td>\n",
       "      <td>3736465.0</td>\n",
       "      <td>5.98</td>\n",
       "      <td>13.78</td>\n",
       "      <td>70.92</td>\n",
       "      <td>70.92</td>\n",
       "    </tr>\n",
       "    <tr>\n",
       "      <th>Other Countries</th>\n",
       "      <td>106738</td>\n",
       "      <td>740348.0</td>\n",
       "      <td>6.94</td>\n",
       "      <td>15.97</td>\n",
       "      <td>12.11</td>\n",
       "      <td>83.03</td>\n",
       "    </tr>\n",
       "    <tr>\n",
       "      <th>AU</th>\n",
       "      <td>33616</td>\n",
       "      <td>251021.0</td>\n",
       "      <td>7.47</td>\n",
       "      <td>19.02</td>\n",
       "      <td>3.82</td>\n",
       "      <td>86.85</td>\n",
       "    </tr>\n",
       "    <tr>\n",
       "      <th>CA</th>\n",
       "      <td>30267</td>\n",
       "      <td>180196.0</td>\n",
       "      <td>5.95</td>\n",
       "      <td>14.80</td>\n",
       "      <td>3.44</td>\n",
       "      <td>90.29</td>\n",
       "    </tr>\n",
       "    <tr>\n",
       "      <th>GB</th>\n",
       "      <td>21355</td>\n",
       "      <td>178799.0</td>\n",
       "      <td>8.37</td>\n",
       "      <td>19.13</td>\n",
       "      <td>2.42</td>\n",
       "      <td>92.71</td>\n",
       "    </tr>\n",
       "    <tr>\n",
       "      <th>IL</th>\n",
       "      <td>5992</td>\n",
       "      <td>104003.0</td>\n",
       "      <td>17.36</td>\n",
       "      <td>28.61</td>\n",
       "      <td>0.68</td>\n",
       "      <td>93.39</td>\n",
       "    </tr>\n",
       "    <tr>\n",
       "      <th>RU</th>\n",
       "      <td>15369</td>\n",
       "      <td>69677.0</td>\n",
       "      <td>4.53</td>\n",
       "      <td>10.45</td>\n",
       "      <td>1.74</td>\n",
       "      <td>95.13</td>\n",
       "    </tr>\n",
       "    <tr>\n",
       "      <th>NZ</th>\n",
       "      <td>7112</td>\n",
       "      <td>68074.0</td>\n",
       "      <td>9.57</td>\n",
       "      <td>15.37</td>\n",
       "      <td>0.81</td>\n",
       "      <td>95.94</td>\n",
       "    </tr>\n",
       "    <tr>\n",
       "      <th>NG</th>\n",
       "      <td>14653</td>\n",
       "      <td>64376.0</td>\n",
       "      <td>4.39</td>\n",
       "      <td>10.87</td>\n",
       "      <td>1.66</td>\n",
       "      <td>97.60</td>\n",
       "    </tr>\n",
       "    <tr>\n",
       "      <th>MY</th>\n",
       "      <td>6439</td>\n",
       "      <td>46246.0</td>\n",
       "      <td>7.18</td>\n",
       "      <td>15.16</td>\n",
       "      <td>0.73</td>\n",
       "      <td>98.33</td>\n",
       "    </tr>\n",
       "    <tr>\n",
       "      <th>SG</th>\n",
       "      <td>4152</td>\n",
       "      <td>41312.0</td>\n",
       "      <td>9.95</td>\n",
       "      <td>18.19</td>\n",
       "      <td>0.47</td>\n",
       "      <td>98.80</td>\n",
       "    </tr>\n",
       "    <tr>\n",
       "      <th>ZA</th>\n",
       "      <td>3599</td>\n",
       "      <td>26727.0</td>\n",
       "      <td>7.43</td>\n",
       "      <td>14.31</td>\n",
       "      <td>0.41</td>\n",
       "      <td>99.21</td>\n",
       "    </tr>\n",
       "    <tr>\n",
       "      <th>TH</th>\n",
       "      <td>2841</td>\n",
       "      <td>12606.0</td>\n",
       "      <td>4.44</td>\n",
       "      <td>10.92</td>\n",
       "      <td>0.32</td>\n",
       "      <td>99.53</td>\n",
       "    </tr>\n",
       "    <tr>\n",
       "      <th>LK</th>\n",
       "      <td>2965</td>\n",
       "      <td>11378.0</td>\n",
       "      <td>3.84</td>\n",
       "      <td>10.45</td>\n",
       "      <td>0.34</td>\n",
       "      <td>99.87</td>\n",
       "    </tr>\n",
       "    <tr>\n",
       "      <th>CL</th>\n",
       "      <td>1139</td>\n",
       "      <td>11222.0</td>\n",
       "      <td>9.85</td>\n",
       "      <td>17.21</td>\n",
       "      <td>0.13</td>\n",
       "      <td>100.00</td>\n",
       "    </tr>\n",
       "  </tbody>\n",
       "</table>\n",
       "</div>"
      ],
      "text/plain": [
       "                  count        sum   mean    std  share  cumulative_share\n",
       "country_segment                                                          \n",
       "US               624890  3736465.0   5.98  13.78  70.92             70.92\n",
       "Other Countries  106738   740348.0   6.94  15.97  12.11             83.03\n",
       "AU                33616   251021.0   7.47  19.02   3.82             86.85\n",
       "CA                30267   180196.0   5.95  14.80   3.44             90.29\n",
       "GB                21355   178799.0   8.37  19.13   2.42             92.71\n",
       "IL                 5992   104003.0  17.36  28.61   0.68             93.39\n",
       "RU                15369    69677.0   4.53  10.45   1.74             95.13\n",
       "NZ                 7112    68074.0   9.57  15.37   0.81             95.94\n",
       "NG                14653    64376.0   4.39  10.87   1.66             97.60\n",
       "MY                 6439    46246.0   7.18  15.16   0.73             98.33\n",
       "SG                 4152    41312.0   9.95  18.19   0.47             98.80\n",
       "ZA                 3599    26727.0   7.43  14.31   0.41             99.21\n",
       "TH                 2841    12606.0   4.44  10.92   0.32             99.53\n",
       "LK                 2965    11378.0   3.84  10.45   0.34             99.87\n",
       "CL                 1139    11222.0   9.85  17.21   0.13            100.00"
      ]
     },
     "execution_count": 23,
     "metadata": {},
     "output_type": "execute_result"
    }
   ],
   "source": [
    "country_segment_description = (describe_categorical(train, \"country_segment\")\n",
    "                                .sort_values(by='sum',ascending=False))\n",
    "country_segment_description['cumulative_share'] = country_segment_description.share.cumsum()\n",
    "country_segment_description"
   ]
  },
  {
   "cell_type": "markdown",
   "metadata": {},
   "source": [
    " I will take the top 7, that sum ~95% of share market."
   ]
  },
  {
   "cell_type": "code",
   "execution_count": 24,
   "metadata": {},
   "outputs": [],
   "source": [
    "top_countries = list(country_segment_description.head(7).index)\n",
    "train_top_countries = train[train.country_segment.isin(top_countries)]"
   ]
  },
  {
   "cell_type": "markdown",
   "metadata": {},
   "source": [
    "### > credit_card_level"
   ]
  },
  {
   "cell_type": "markdown",
   "metadata": {},
   "source": [
    "General information about credit_card_level"
   ]
  },
  {
   "cell_type": "code",
   "execution_count": 25,
   "metadata": {},
   "outputs": [
    {
     "data": {
      "text/html": [
       "<div>\n",
       "<style scoped>\n",
       "    .dataframe tbody tr th:only-of-type {\n",
       "        vertical-align: middle;\n",
       "    }\n",
       "\n",
       "    .dataframe tbody tr th {\n",
       "        vertical-align: top;\n",
       "    }\n",
       "\n",
       "    .dataframe thead th {\n",
       "        text-align: right;\n",
       "    }\n",
       "</style>\n",
       "<table border=\"1\" class=\"dataframe\">\n",
       "  <thead>\n",
       "    <tr style=\"text-align: right;\">\n",
       "      <th></th>\n",
       "      <th>count</th>\n",
       "      <th>sum</th>\n",
       "      <th>mean</th>\n",
       "      <th>std</th>\n",
       "      <th>share</th>\n",
       "    </tr>\n",
       "    <tr>\n",
       "      <th>credit_card_level</th>\n",
       "      <th></th>\n",
       "      <th></th>\n",
       "      <th></th>\n",
       "      <th></th>\n",
       "      <th></th>\n",
       "    </tr>\n",
       "  </thead>\n",
       "  <tbody>\n",
       "    <tr>\n",
       "      <th>prepaid</th>\n",
       "      <td>351252</td>\n",
       "      <td>1661989.0</td>\n",
       "      <td>4.73</td>\n",
       "      <td>10.76</td>\n",
       "      <td>39.86</td>\n",
       "    </tr>\n",
       "    <tr>\n",
       "      <th>standard</th>\n",
       "      <td>529875</td>\n",
       "      <td>3880462.0</td>\n",
       "      <td>7.32</td>\n",
       "      <td>16.61</td>\n",
       "      <td>60.14</td>\n",
       "    </tr>\n",
       "  </tbody>\n",
       "</table>\n",
       "</div>"
      ],
      "text/plain": [
       "                    count        sum  mean    std  share\n",
       "credit_card_level                                       \n",
       "prepaid            351252  1661989.0  4.73  10.76  39.86\n",
       "standard           529875  3880462.0  7.32  16.61  60.14"
      ]
     },
     "execution_count": 25,
     "metadata": {},
     "output_type": "execute_result"
    }
   ],
   "source": [
    "describe_categorical(train,\"credit_card_level\")"
   ]
  },
  {
   "cell_type": "markdown",
   "metadata": {},
   "source": [
    "Share of credit_card_level by product_types. We try to understand if some prepaid_card_level value is not skewed to just one product."
   ]
  },
  {
   "cell_type": "code",
   "execution_count": 26,
   "metadata": {},
   "outputs": [
    {
     "data": {
      "text/plain": [
       "<AxesSubplot:xlabel='product_type', ylabel='target'>"
      ]
     },
     "execution_count": 26,
     "metadata": {},
     "output_type": "execute_result"
    },
    {
     "data": {
      "image/png": "[encoded data removed]",
      "text/plain": [
       "<Figure size 432x288 with 1 Axes>"
      ]
     },
     "metadata": {
      "needs_background": "light"
     },
     "output_type": "display_data"
    }
   ],
   "source": [
    "data = train.groupby([\"product_type\",\"credit_card_level\"]).sum().target\n",
    "sns.barplot(data=data.reset_index(),x='product_type',y='target',hue=\"credit_card_level\")"
   ]
  },
  {
   "cell_type": "markdown",
   "metadata": {},
   "source": [
    "We will analyze just type_p and type_x because represents the main part of our dataset."
   ]
  },
  {
   "cell_type": "markdown",
   "metadata": {},
   "source": [
    "#### credit_card_level - type_p"
   ]
  },
  {
   "cell_type": "markdown",
   "metadata": {},
   "source": [
    "Relations between Country segments, credit_Card_level and our Target var; just for users with product_type equal to **type_p**"
   ]
  },
  {
   "cell_type": "code",
   "execution_count": 27,
   "metadata": {},
   "outputs": [
    {
     "data": {
      "image/png": "[encoded data removed]",
      "text/plain": [
       "<Figure size 720x432 with 1 Axes>"
      ]
     },
     "metadata": {
      "needs_background": "light"
     },
     "output_type": "display_data"
    }
   ],
   "source": [
    "plt.figure(figsize=(10,6))\n",
    "\n",
    "ax = sns.boxplot(x=TARGET, y=\"country_segment\", hue=\"credit_card_level\",\n",
    "                    data=train_top_countries[train_top_countries.product_type=='type_p'], showfliers=False,)"
   ]
  },
  {
   "cell_type": "markdown",
   "metadata": {},
   "source": [
    "#### credit_card_level - type_x"
   ]
  },
  {
   "cell_type": "markdown",
   "metadata": {},
   "source": [
    "Relations between Country segments, credit_Card_level and our Target var; just for users with product_type equal to **type_x**"
   ]
  },
  {
   "cell_type": "code",
   "execution_count": 28,
   "metadata": {},
   "outputs": [
    {
     "data": {
      "image/png": "[encoded data removed]",
      "text/plain": [
       "<Figure size 1080x576 with 1 Axes>"
      ]
     },
     "metadata": {
      "needs_background": "light"
     },
     "output_type": "display_data"
    }
   ],
   "source": [
    "plt.figure(figsize=(15,8))\n",
    "\n",
    "ax = sns.boxplot(x=TARGET, y=\"country_segment\", hue=\"credit_card_level\",\n",
    "                    data=train_top_countries[train_top_countries.product_type=='type_x'], showfliers=False,)"
   ]
  },
  {
   "cell_type": "markdown",
   "metadata": {},
   "source": [
    "#### credit_card_level - Conclussions"
   ]
  },
  {
   "cell_type": "markdown",
   "metadata": {},
   "source": [
    "We found that users with prepaid credit card level has less variability in his LTV and represents a 40% percent of total samples, so, it seems a good feature."
   ]
  },
  {
   "cell_type": "markdown",
   "metadata": {},
   "source": [
    "### > product"
   ]
  },
  {
   "cell_type": "markdown",
   "metadata": {},
   "source": [
    "Like we have a lot of products (exactly 10), I will select the most important ones in share market in order to visualize the relationship with our target."
   ]
  },
  {
   "cell_type": "code",
   "execution_count": 29,
   "metadata": {},
   "outputs": [
    {
     "data": {
      "text/html": [
       "<div>\n",
       "<style scoped>\n",
       "    .dataframe tbody tr th:only-of-type {\n",
       "        vertical-align: middle;\n",
       "    }\n",
       "\n",
       "    .dataframe tbody tr th {\n",
       "        vertical-align: top;\n",
       "    }\n",
       "\n",
       "    .dataframe thead th {\n",
       "        text-align: right;\n",
       "    }\n",
       "</style>\n",
       "<table border=\"1\" class=\"dataframe\">\n",
       "  <thead>\n",
       "    <tr style=\"text-align: right;\">\n",
       "      <th></th>\n",
       "      <th>count</th>\n",
       "      <th>sum</th>\n",
       "      <th>mean</th>\n",
       "      <th>std</th>\n",
       "      <th>share</th>\n",
       "      <th>cumulative_share</th>\n",
       "    </tr>\n",
       "    <tr>\n",
       "      <th>product</th>\n",
       "      <th></th>\n",
       "      <th></th>\n",
       "      <th></th>\n",
       "      <th></th>\n",
       "      <th></th>\n",
       "      <th></th>\n",
       "    </tr>\n",
       "  </thead>\n",
       "  <tbody>\n",
       "    <tr>\n",
       "      <th>product_1</th>\n",
       "      <td>432991</td>\n",
       "      <td>2800428.0</td>\n",
       "      <td>6.47</td>\n",
       "      <td>15.67</td>\n",
       "      <td>49.14</td>\n",
       "      <td>49.14</td>\n",
       "    </tr>\n",
       "    <tr>\n",
       "      <th>product_4</th>\n",
       "      <td>180920</td>\n",
       "      <td>1100034.0</td>\n",
       "      <td>6.08</td>\n",
       "      <td>13.30</td>\n",
       "      <td>20.53</td>\n",
       "      <td>69.67</td>\n",
       "    </tr>\n",
       "    <tr>\n",
       "      <th>product_2</th>\n",
       "      <td>130600</td>\n",
       "      <td>825044.0</td>\n",
       "      <td>6.32</td>\n",
       "      <td>13.73</td>\n",
       "      <td>14.82</td>\n",
       "      <td>84.49</td>\n",
       "    </tr>\n",
       "    <tr>\n",
       "      <th>product_3</th>\n",
       "      <td>94889</td>\n",
       "      <td>565932.0</td>\n",
       "      <td>5.96</td>\n",
       "      <td>13.57</td>\n",
       "      <td>10.77</td>\n",
       "      <td>95.26</td>\n",
       "    </tr>\n",
       "    <tr>\n",
       "      <th>product_5</th>\n",
       "      <td>12890</td>\n",
       "      <td>76306.0</td>\n",
       "      <td>5.92</td>\n",
       "      <td>13.85</td>\n",
       "      <td>1.46</td>\n",
       "      <td>96.72</td>\n",
       "    </tr>\n",
       "    <tr>\n",
       "      <th>product_7</th>\n",
       "      <td>11127</td>\n",
       "      <td>67768.0</td>\n",
       "      <td>6.09</td>\n",
       "      <td>14.02</td>\n",
       "      <td>1.26</td>\n",
       "      <td>97.98</td>\n",
       "    </tr>\n",
       "    <tr>\n",
       "      <th>product_6</th>\n",
       "      <td>8632</td>\n",
       "      <td>51441.0</td>\n",
       "      <td>5.96</td>\n",
       "      <td>13.20</td>\n",
       "      <td>0.98</td>\n",
       "      <td>98.96</td>\n",
       "    </tr>\n",
       "    <tr>\n",
       "      <th>product_8</th>\n",
       "      <td>4811</td>\n",
       "      <td>28505.0</td>\n",
       "      <td>5.93</td>\n",
       "      <td>13.37</td>\n",
       "      <td>0.55</td>\n",
       "      <td>99.51</td>\n",
       "    </tr>\n",
       "    <tr>\n",
       "      <th>product_10</th>\n",
       "      <td>2599</td>\n",
       "      <td>15947.0</td>\n",
       "      <td>6.14</td>\n",
       "      <td>14.16</td>\n",
       "      <td>0.29</td>\n",
       "      <td>99.80</td>\n",
       "    </tr>\n",
       "    <tr>\n",
       "      <th>product_9</th>\n",
       "      <td>1668</td>\n",
       "      <td>11046.0</td>\n",
       "      <td>6.62</td>\n",
       "      <td>14.70</td>\n",
       "      <td>0.19</td>\n",
       "      <td>99.99</td>\n",
       "    </tr>\n",
       "  </tbody>\n",
       "</table>\n",
       "</div>"
      ],
      "text/plain": [
       "             count        sum  mean    std  share  cumulative_share\n",
       "product                                                            \n",
       "product_1   432991  2800428.0  6.47  15.67  49.14             49.14\n",
       "product_4   180920  1100034.0  6.08  13.30  20.53             69.67\n",
       "product_2   130600   825044.0  6.32  13.73  14.82             84.49\n",
       "product_3    94889   565932.0  5.96  13.57  10.77             95.26\n",
       "product_5    12890    76306.0  5.92  13.85   1.46             96.72\n",
       "product_7    11127    67768.0  6.09  14.02   1.26             97.98\n",
       "product_6     8632    51441.0  5.96  13.20   0.98             98.96\n",
       "product_8     4811    28505.0  5.93  13.37   0.55             99.51\n",
       "product_10    2599    15947.0  6.14  14.16   0.29             99.80\n",
       "product_9     1668    11046.0  6.62  14.70   0.19             99.99"
      ]
     },
     "execution_count": 29,
     "metadata": {},
     "output_type": "execute_result"
    }
   ],
   "source": [
    "products_description = describe_categorical(train,\"product\").sort_values(by='sum',ascending=False)\n",
    "products_description[\"cumulative_share\"] = products_description.share.cumsum()\n",
    "products_description"
   ]
  },
  {
   "cell_type": "markdown",
   "metadata": {},
   "source": [
    "In order to simplify our analisis we will use just the top 4, which represents 95% of samples"
   ]
  },
  {
   "cell_type": "code",
   "execution_count": 30,
   "metadata": {},
   "outputs": [
    {
     "data": {
      "text/html": [
       "<div>\n",
       "<style scoped>\n",
       "    .dataframe tbody tr th:only-of-type {\n",
       "        vertical-align: middle;\n",
       "    }\n",
       "\n",
       "    .dataframe tbody tr th {\n",
       "        vertical-align: top;\n",
       "    }\n",
       "\n",
       "    .dataframe thead th {\n",
       "        text-align: right;\n",
       "    }\n",
       "</style>\n",
       "<table border=\"1\" class=\"dataframe\">\n",
       "  <thead>\n",
       "    <tr style=\"text-align: right;\">\n",
       "      <th></th>\n",
       "      <th>product_type</th>\n",
       "      <th>user_id</th>\n",
       "      <th>join_date</th>\n",
       "      <th>hidden</th>\n",
       "      <th>product</th>\n",
       "      <th>STV</th>\n",
       "      <th>target</th>\n",
       "      <th>credit_card_level</th>\n",
       "      <th>is_lp</th>\n",
       "      <th>aff_type</th>\n",
       "      <th>is_cancelled</th>\n",
       "      <th>country_segment</th>\n",
       "      <th>id</th>\n",
       "    </tr>\n",
       "  </thead>\n",
       "  <tbody>\n",
       "    <tr>\n",
       "      <th>0</th>\n",
       "      <td>type_ex</td>\n",
       "      <td>7.0</td>\n",
       "      <td>2018-12-01 00:01:45</td>\n",
       "      <td>0</td>\n",
       "      <td>product_1</td>\n",
       "      <td>8.25</td>\n",
       "      <td>8.25</td>\n",
       "      <td>standard</td>\n",
       "      <td>0</td>\n",
       "      <td>PPL</td>\n",
       "      <td>NaN</td>\n",
       "      <td>US</td>\n",
       "      <td>type_ex_7.0</td>\n",
       "    </tr>\n",
       "    <tr>\n",
       "      <th>1</th>\n",
       "      <td>type_ex</td>\n",
       "      <td>20.0</td>\n",
       "      <td>2018-12-01 00:06:05</td>\n",
       "      <td>0</td>\n",
       "      <td>product_2</td>\n",
       "      <td>8.25</td>\n",
       "      <td>8.25</td>\n",
       "      <td>standard</td>\n",
       "      <td>0</td>\n",
       "      <td>PPL</td>\n",
       "      <td>NaN</td>\n",
       "      <td>US</td>\n",
       "      <td>type_ex_20.0</td>\n",
       "    </tr>\n",
       "    <tr>\n",
       "      <th>2</th>\n",
       "      <td>type_ex</td>\n",
       "      <td>22.0</td>\n",
       "      <td>2018-12-01 00:06:23</td>\n",
       "      <td>0</td>\n",
       "      <td>product_3</td>\n",
       "      <td>8.25</td>\n",
       "      <td>8.25</td>\n",
       "      <td>prepaid</td>\n",
       "      <td>0</td>\n",
       "      <td>PPL</td>\n",
       "      <td>NaN</td>\n",
       "      <td>US</td>\n",
       "      <td>type_ex_22.0</td>\n",
       "    </tr>\n",
       "  </tbody>\n",
       "</table>\n",
       "</div>"
      ],
      "text/plain": [
       "  product_type  user_id           join_date  hidden    product   STV  target  \\\n",
       "0      type_ex      7.0 2018-12-01 00:01:45       0  product_1  8.25    8.25   \n",
       "1      type_ex     20.0 2018-12-01 00:06:05       0  product_2  8.25    8.25   \n",
       "2      type_ex     22.0 2018-12-01 00:06:23       0  product_3  8.25    8.25   \n",
       "\n",
       "  credit_card_level  is_lp aff_type  is_cancelled country_segment  \\\n",
       "0          standard      0      PPL           NaN              US   \n",
       "1          standard      0      PPL           NaN              US   \n",
       "2           prepaid      0      PPL           NaN              US   \n",
       "\n",
       "             id  \n",
       "0   type_ex_7.0  \n",
       "1  type_ex_20.0  \n",
       "2  type_ex_22.0  "
      ]
     },
     "execution_count": 30,
     "metadata": {},
     "output_type": "execute_result"
    }
   ],
   "source": [
    "top_4_products = list(products_description.head(4).index)\n",
    "train_top_products = train_top_countries[train_top_countries['product'].isin(top_4_products)]\n",
    "train_top_products.head(3)"
   ]
  },
  {
   "cell_type": "markdown",
   "metadata": {},
   "source": [
    "How are distributed the main products in comparison with product_type"
   ]
  },
  {
   "cell_type": "code",
   "execution_count": 31,
   "metadata": {},
   "outputs": [
    {
     "data": {
      "text/plain": [
       "<AxesSubplot:xlabel='product_type', ylabel='target'>"
      ]
     },
     "execution_count": 31,
     "metadata": {},
     "output_type": "execute_result"
    },
    {
     "data": {
      "image/png": "[encoded data removed]",
      "text/plain": [
       "<Figure size 432x288 with 1 Axes>"
      ]
     },
     "metadata": {
      "needs_background": "light"
     },
     "output_type": "display_data"
    }
   ],
   "source": [
    "data = train_top_products.groupby([\"product_type\",\"product\"]).sum().target\n",
    "sns.barplot(data=data.reset_index(),x='product_type',y='target',hue=\"product\")"
   ]
  },
  {
   "cell_type": "markdown",
   "metadata": {},
   "source": [
    "#### Product - type_p\n",
    "Relations between Country segments, products(top 4) and our Target var; just for users with product_type equal to **type_p**"
   ]
  },
  {
   "cell_type": "code",
   "execution_count": 32,
   "metadata": {},
   "outputs": [
    {
     "data": {
      "image/png": "[encoded data removed]",
      "text/plain": [
       "<Figure size 1440x1080 with 1 Axes>"
      ]
     },
     "metadata": {
      "needs_background": "light"
     },
     "output_type": "display_data"
    }
   ],
   "source": [
    "plt.figure(figsize=(20,15))\n",
    "\n",
    "data = train_top_products[train_top_products.product_type=='type_p']\n",
    "ax = sns.boxplot(x=TARGET, y=\"country_segment\", hue=\"product\",\n",
    "                    data=data, showfliers=False, hue_order=top_4_products)"
   ]
  },
  {
   "cell_type": "markdown",
   "metadata": {},
   "source": [
    "#### Product - type_x\n",
    "Relations between Country segments, products(top 4, which represents 95% of samples) and our Target var; just for users with product_type equal to **type_x**"
   ]
  },
  {
   "cell_type": "code",
   "execution_count": 33,
   "metadata": {},
   "outputs": [
    {
     "data": {
      "image/png": "[encoded data removed]",
      "text/plain": [
       "<Figure size 1440x1080 with 1 Axes>"
      ]
     },
     "metadata": {
      "needs_background": "light"
     },
     "output_type": "display_data"
    }
   ],
   "source": [
    "plt.figure(figsize=(20,15))\n",
    "top_4_products = list(products_description.head(4).index)\n",
    "\n",
    "data = train_top_countries[np.logical_and(train_top_countries.product_type=='type_x',\n",
    "                                          train_top_countries['product'].isin(top_4_products))]\n",
    "ax = sns.boxplot(x=TARGET, y=\"country_segment\", hue=\"product\",\n",
    "                    data=data, showfliers=False, hue_order=top_4_products)"
   ]
  },
  {
   "cell_type": "markdown",
   "metadata": {},
   "source": [
    "#### product - Conclussions\n",
    "Main products in Canada(CA), or Israel(IL) is a important feature because its variance between each product give us a lot of information(In both product types). But in another ones like US, the feature has the similar target values in many products, so, has less value but is enough to keep it in our training set."
   ]
  },
  {
   "cell_type": "markdown",
   "metadata": {},
   "source": [
    "### > aff_type"
   ]
  },
  {
   "cell_type": "markdown",
   "metadata": {},
   "source": [
    "How are different aff_type values distributed?"
   ]
  },
  {
   "cell_type": "code",
   "execution_count": 34,
   "metadata": {},
   "outputs": [
    {
     "data": {
      "text/plain": [
       "<AxesSubplot:xlabel='aff_type'>"
      ]
     },
     "execution_count": 34,
     "metadata": {},
     "output_type": "execute_result"
    },
    {
     "data": {
      "image/png": "[encoded data removed]",
      "text/plain": [
       "<Figure size 432x288 with 1 Axes>"
      ]
     },
     "metadata": {
      "needs_background": "light"
     },
     "output_type": "display_data"
    }
   ],
   "source": [
    "products_description = describe_categorical(train,\"aff_type\").sort_values(by='sum',ascending=False)\n",
    "products_description.reset_index().plot(x=\"aff_type\",y=\"share\",kind=\"bar\")"
   ]
  },
  {
   "cell_type": "markdown",
   "metadata": {},
   "source": [
    "#### aff_type - type p\n",
    "Relations between Country segments, aff_type and our Target var; just for users with product_type equal to **type_p**"
   ]
  },
  {
   "cell_type": "code",
   "execution_count": 35,
   "metadata": {},
   "outputs": [
    {
     "data": {
      "image/png": "[encoded data removed]",
      "text/plain": [
       "<Figure size 720x720 with 1 Axes>"
      ]
     },
     "metadata": {
      "needs_background": "light"
     },
     "output_type": "display_data"
    }
   ],
   "source": [
    "plt.figure(figsize=(10,10))\n",
    "\n",
    "data = train_top_countries[train_top_countries.product_type=='type_p']\n",
    "ax = sns.boxplot(x=TARGET, y=\"country_segment\", hue=\"aff_type\",\n",
    "                    data=data, showfliers=False, hue_order=['PPS','PPL'])"
   ]
  },
  {
   "cell_type": "markdown",
   "metadata": {},
   "source": [
    "#### aff_type - type x\n",
    "Relations between Country segments, aff_type and our Target var; just for users with product_type equal to **type_x**"
   ]
  },
  {
   "cell_type": "code",
   "execution_count": 36,
   "metadata": {},
   "outputs": [
    {
     "data": {
      "image/png": "[encoded data removed]",
      "text/plain": [
       "<Figure size 720x720 with 1 Axes>"
      ]
     },
     "metadata": {
      "needs_background": "light"
     },
     "output_type": "display_data"
    }
   ],
   "source": [
    "plt.figure(figsize=(10,10))\n",
    "\n",
    "data = train_top_countries[train_top_countries.product_type=='type_x']\n",
    "ax = sns.boxplot(x=TARGET, y=\"country_segment\", hue=\"aff_type\",\n",
    "                    data=data, showfliers=False, hue_order=['PPS','PPL'])"
   ]
  },
  {
   "cell_type": "markdown",
   "metadata": {},
   "source": [
    "#### aff_type vs is_lp\n",
    "How aff_type is a traffic source characterization, I am comparing it with is_lp(another traffic source)"
   ]
  },
  {
   "cell_type": "code",
   "execution_count": 37,
   "metadata": {},
   "outputs": [
    {
     "data": {
      "image/png": "[encoded data removed]",
      "text/plain": [
       "<Figure size 432x288 with 1 Axes>"
      ]
     },
     "metadata": {
      "needs_background": "light"
     },
     "output_type": "display_data"
    }
   ],
   "source": [
    "data = train.copy()\n",
    "data[\"E_is_lp\"] = \"N\"\n",
    "data.loc[data.is_lp > 0, \"E_is_lp\"] = \"Y\"\n",
    "ax = sns.boxplot(x=TARGET, y=\"E_is_lp\", hue=\"aff_type\",\n",
    "                    data=data, showfliers=False, hue_order=['PPS','PPL'])"
   ]
  },
  {
   "cell_type": "markdown",
   "metadata": {},
   "source": [
    "#### aff_type - Conclussions\n",
    "In this analysis it seems like this variable is useless. May be we will delete it before."
   ]
  },
  {
   "cell_type": "markdown",
   "metadata": {},
   "source": [
    "## Numerical columns"
   ]
  },
  {
   "cell_type": "code",
   "execution_count": 38,
   "metadata": {
    "scrolled": true
   },
   "outputs": [
    {
     "name": "stdout",
     "output_type": "stream",
     "text": [
      "Numerical columns:\n",
      " + hidden\n",
      " + STV\n",
      " + target\n",
      " + is_lp\n",
      " + is_cancelled\n"
     ]
    }
   ],
   "source": [
    "numerical_cols = [c for c in train.select_dtypes(exclude='object').columns if c not in ['user_id','join_date']]\n",
    "print(\"Numerical columns:\")\n",
    "for n in numerical_cols:\n",
    "    print(\" + \"+n)"
   ]
  },
  {
   "cell_type": "markdown",
   "metadata": {},
   "source": [
    "### Distributions vs. target var"
   ]
  },
  {
   "cell_type": "code",
   "execution_count": 39,
   "metadata": {},
   "outputs": [
    {
     "data": {
      "text/plain": [
       "<seaborn.axisgrid.PairGrid at 0x7f015be0e240>"
      ]
     },
     "execution_count": 39,
     "metadata": {},
     "output_type": "execute_result"
    },
    {
     "data": {
      "image/png": "[encoded data removed]",
      "text/plain": [
       "<Figure size 975x180 with 6 Axes>"
      ]
     },
     "metadata": {
      "needs_background": "light"
     },
     "output_type": "display_data"
    }
   ],
   "source": [
    "fixed_na_train = train.copy()\n",
    "fixed_na_train.is_cancelled = fixed_na_train.is_cancelled.fillna(2)\n",
    "sns.pairplot(fixed_na_train,x_vars=numerical_cols,\n",
    "            y_vars=[\"target\"], hue=\"product_type\")"
   ]
  },
  {
   "cell_type": "code",
   "execution_count": 40,
   "metadata": {},
   "outputs": [
    {
     "data": {
      "text/plain": [
       "<AxesSubplot:xlabel='hidden', ylabel='target'>"
      ]
     },
     "execution_count": 40,
     "metadata": {},
     "output_type": "execute_result"
    },
    {
     "data": {
      "image/png": "[encoded data removed]",
      "text/plain": [
       "<Figure size 432x288 with 1 Axes>"
      ]
     },
     "metadata": {
      "needs_background": "light"
     },
     "output_type": "display_data"
    }
   ],
   "source": [
    "sns.scatterplot(data=train, x=\"hidden\", y=TARGET, hue=\"product_type\")"
   ]
  },
  {
   "cell_type": "markdown",
   "metadata": {},
   "source": [
    "### Correlation matrix"
   ]
  },
  {
   "cell_type": "code",
   "execution_count": 41,
   "metadata": {},
   "outputs": [
    {
     "data": {
      "text/html": [
       "<div>\n",
       "<style scoped>\n",
       "    .dataframe tbody tr th:only-of-type {\n",
       "        vertical-align: middle;\n",
       "    }\n",
       "\n",
       "    .dataframe tbody tr th {\n",
       "        vertical-align: top;\n",
       "    }\n",
       "\n",
       "    .dataframe thead th {\n",
       "        text-align: right;\n",
       "    }\n",
       "</style>\n",
       "<table border=\"1\" class=\"dataframe\">\n",
       "  <thead>\n",
       "    <tr style=\"text-align: right;\">\n",
       "      <th></th>\n",
       "      <th>hidden</th>\n",
       "      <th>STV</th>\n",
       "      <th>target</th>\n",
       "      <th>is_lp</th>\n",
       "      <th>is_cancelled</th>\n",
       "    </tr>\n",
       "  </thead>\n",
       "  <tbody>\n",
       "    <tr>\n",
       "      <th>hidden</th>\n",
       "      <td>1.000000</td>\n",
       "      <td>0.315540</td>\n",
       "      <td>0.185045</td>\n",
       "      <td>0.122502</td>\n",
       "      <td>0.389977</td>\n",
       "    </tr>\n",
       "    <tr>\n",
       "      <th>STV</th>\n",
       "      <td>0.315540</td>\n",
       "      <td>1.000000</td>\n",
       "      <td>0.501814</td>\n",
       "      <td>0.020663</td>\n",
       "      <td>0.202746</td>\n",
       "    </tr>\n",
       "    <tr>\n",
       "      <th>target</th>\n",
       "      <td>0.185045</td>\n",
       "      <td>0.501814</td>\n",
       "      <td>1.000000</td>\n",
       "      <td>0.012936</td>\n",
       "      <td>0.235546</td>\n",
       "    </tr>\n",
       "    <tr>\n",
       "      <th>is_lp</th>\n",
       "      <td>0.122502</td>\n",
       "      <td>0.020663</td>\n",
       "      <td>0.012936</td>\n",
       "      <td>1.000000</td>\n",
       "      <td>0.090108</td>\n",
       "    </tr>\n",
       "    <tr>\n",
       "      <th>is_cancelled</th>\n",
       "      <td>0.389977</td>\n",
       "      <td>0.202746</td>\n",
       "      <td>0.235546</td>\n",
       "      <td>0.090108</td>\n",
       "      <td>1.000000</td>\n",
       "    </tr>\n",
       "  </tbody>\n",
       "</table>\n",
       "</div>"
      ],
      "text/plain": [
       "                hidden       STV    target     is_lp  is_cancelled\n",
       "hidden        1.000000  0.315540  0.185045  0.122502      0.389977\n",
       "STV           0.315540  1.000000  0.501814  0.020663      0.202746\n",
       "target        0.185045  0.501814  1.000000  0.012936      0.235546\n",
       "is_lp         0.122502  0.020663  0.012936  1.000000      0.090108\n",
       "is_cancelled  0.389977  0.202746  0.235546  0.090108      1.000000"
      ]
     },
     "execution_count": 41,
     "metadata": {},
     "output_type": "execute_result"
    }
   ],
   "source": [
    "corr_matrix = train[numerical_cols].corr().abs()\n",
    "corr_matrix"
   ]
  },
  {
   "cell_type": "code",
   "execution_count": 42,
   "metadata": {
    "scrolled": true
   },
   "outputs": [
    {
     "data": {
      "text/plain": [
       "<AxesSubplot:>"
      ]
     },
     "execution_count": 42,
     "metadata": {},
     "output_type": "execute_result"
    },
    {
     "data": {
      "image/png": "[encoded data removed]",
      "text/plain": [
       "<Figure size 432x288 with 2 Axes>"
      ]
     },
     "metadata": {
      "needs_background": "light"
     },
     "output_type": "display_data"
    }
   ],
   "source": [
    "sns.heatmap(corr_matrix, vmin=0, vmax=1)#.astype(int)"
   ]
  },
  {
   "cell_type": "markdown",
   "metadata": {},
   "source": [
    "### Conclussions"
   ]
  },
  {
   "cell_type": "markdown",
   "metadata": {},
   "source": [
    "We look how STV is highly correlated with our target var, and it make sense because is a shorter picture of LTV. Additionally hidden and is_cancelled have less relation with our target, but are useful too."
   ]
  },
  {
   "cell_type": "markdown",
   "metadata": {},
   "source": [
    "## Other columns"
   ]
  },
  {
   "cell_type": "markdown",
   "metadata": {},
   "source": [
    " Just for curiosity I want to know how is the evolution of LTV by the user join date"
   ]
  },
  {
   "cell_type": "code",
   "execution_count": 43,
   "metadata": {},
   "outputs": [],
   "source": [
    "from datetime import datetime, timedelta\n",
    "\n",
    "train['join_dayofweek'] = train.join_date.dt.dayofweek\n",
    "train[\"join_day\"] = train.join_date.dt.floor('d')\n",
    "train[\"join_week\"] =  train.join_day - train.join_date.dt.weekday * timedelta(days=1)"
   ]
  },
  {
   "cell_type": "code",
   "execution_count": 44,
   "metadata": {},
   "outputs": [
    {
     "data": {
      "text/plain": [
       "<AxesSubplot:xlabel='join_week', ylabel='target'>"
      ]
     },
     "execution_count": 44,
     "metadata": {},
     "output_type": "execute_result"
    },
    {
     "data": {
      "image/png": "[encoded data removed]",
      "text/plain": [
       "<Figure size 432x288 with 1 Axes>"
      ]
     },
     "metadata": {
      "needs_background": "light"
     },
     "output_type": "display_data"
    }
   ],
   "source": [
    "data = train[train.country_segment=='US'].groupby([\"join_week\",\"product_type\"]).sum()\n",
    "sns.lineplot(data=data.reset_index(),\n",
    "             x=\"join_week\",\n",
    "             y=\"target\", \n",
    "             hue='product_type')"
   ]
  },
  {
   "cell_type": "markdown",
   "metadata": {},
   "source": [
    "The previous graphic is weird, because we find peeks in some weeks, may be a marketing campaign?"
   ]
  },
  {
   "cell_type": "code",
   "execution_count": 45,
   "metadata": {},
   "outputs": [
    {
     "data": {
      "text/plain": [
       "<AxesSubplot:xlabel='join_dayofweek', ylabel='target'>"
      ]
     },
     "execution_count": 45,
     "metadata": {},
     "output_type": "execute_result"
    },
    {
     "data": {
      "image/png": "[encoded data removed]",
      "text/plain": [
       "<Figure size 432x288 with 1 Axes>"
      ]
     },
     "metadata": {
      "needs_background": "light"
     },
     "output_type": "display_data"
    }
   ],
   "source": [
    "data = train[train.target >= 0].groupby([\"join_dayofweek\",\"product_type\"]).sum()\n",
    "sns.lineplot(data=data.reset_index(),\n",
    "             x=\"join_dayofweek\",\n",
    "             y=\"target\", \n",
    "             hue='product_type')"
   ]
  },
  {
   "cell_type": "markdown",
   "metadata": {},
   "source": [
    "# Modeling"
   ]
  },
  {
   "cell_type": "markdown",
   "metadata": {},
   "source": [
    "In order to feed correctly our models, we need to clean our data, and mixed with this we have some users that have an abnormal behaviour. Users with negative LTV are users  that use different combinations in our features looking for vulnerabilities in the system. So, I will exclude them."
   ]
  },
  {
   "cell_type": "code",
   "execution_count": 49,
   "metadata": {},
   "outputs": [
    {
     "name": "stdout",
     "output_type": "stream",
     "text": [
      "Percent of cleaned dataset 93% (822785 of 881127)\n"
     ]
    }
   ],
   "source": [
    "def remove_negative_values(df):\n",
    "    filter_condition = df[TARGET] >= 0\n",
    "    df_filtered = df[filter_condition].reset_index(drop=True)\n",
    "    percent_of_cleaned_train = 100.0*len(df_filtered)/len(df)\n",
    "    print(f\"Percent of cleaned dataset {round(percent_of_cleaned_train)}% ({len(df_filtered)} of {len(df)})\")\n",
    "    return df_filtered\n",
    "\n",
    "filtered_train = remove_negative_values(train)"
   ]
  },
  {
   "cell_type": "markdown",
   "metadata": {},
   "source": [
    "## Feature Importance"
   ]
  },
  {
   "cell_type": "code",
   "execution_count": 57,
   "metadata": {},
   "outputs": [
    {
     "data": {
      "text/html": [
       "<div>\n",
       "<style scoped>\n",
       "    .dataframe tbody tr th:only-of-type {\n",
       "        vertical-align: middle;\n",
       "    }\n",
       "\n",
       "    .dataframe tbody tr th {\n",
       "        vertical-align: top;\n",
       "    }\n",
       "\n",
       "    .dataframe thead th {\n",
       "        text-align: right;\n",
       "    }\n",
       "</style>\n",
       "<table border=\"1\" class=\"dataframe\">\n",
       "  <thead>\n",
       "    <tr style=\"text-align: right;\">\n",
       "      <th></th>\n",
       "      <th>hidden</th>\n",
       "      <th>is_lp</th>\n",
       "      <th>is_cancelled</th>\n",
       "      <th>join_dayofweek</th>\n",
       "      <th>target</th>\n",
       "      <th>STV</th>\n",
       "      <th>product_type_type_ex</th>\n",
       "      <th>product_type_type_p</th>\n",
       "      <th>product_type_type_u</th>\n",
       "      <th>product_type_type_x</th>\n",
       "      <th>...</th>\n",
       "      <th>country_segment_LK</th>\n",
       "      <th>country_segment_MY</th>\n",
       "      <th>country_segment_NG</th>\n",
       "      <th>country_segment_NZ</th>\n",
       "      <th>country_segment_Other Countries</th>\n",
       "      <th>country_segment_RU</th>\n",
       "      <th>country_segment_SG</th>\n",
       "      <th>country_segment_TH</th>\n",
       "      <th>country_segment_US</th>\n",
       "      <th>country_segment_ZA</th>\n",
       "    </tr>\n",
       "  </thead>\n",
       "  <tbody>\n",
       "    <tr>\n",
       "      <th>0</th>\n",
       "      <td>0</td>\n",
       "      <td>0</td>\n",
       "      <td>1.0</td>\n",
       "      <td>5</td>\n",
       "      <td>8.25</td>\n",
       "      <td>1.0</td>\n",
       "      <td>1.0</td>\n",
       "      <td>0.0</td>\n",
       "      <td>0.0</td>\n",
       "      <td>0.0</td>\n",
       "      <td>...</td>\n",
       "      <td>0.0</td>\n",
       "      <td>0.0</td>\n",
       "      <td>0.0</td>\n",
       "      <td>0.0</td>\n",
       "      <td>0.0</td>\n",
       "      <td>0.0</td>\n",
       "      <td>0.0</td>\n",
       "      <td>0.0</td>\n",
       "      <td>1.0</td>\n",
       "      <td>0.0</td>\n",
       "    </tr>\n",
       "    <tr>\n",
       "      <th>1</th>\n",
       "      <td>0</td>\n",
       "      <td>0</td>\n",
       "      <td>1.0</td>\n",
       "      <td>5</td>\n",
       "      <td>8.25</td>\n",
       "      <td>1.0</td>\n",
       "      <td>1.0</td>\n",
       "      <td>0.0</td>\n",
       "      <td>0.0</td>\n",
       "      <td>0.0</td>\n",
       "      <td>...</td>\n",
       "      <td>0.0</td>\n",
       "      <td>0.0</td>\n",
       "      <td>0.0</td>\n",
       "      <td>0.0</td>\n",
       "      <td>0.0</td>\n",
       "      <td>0.0</td>\n",
       "      <td>0.0</td>\n",
       "      <td>0.0</td>\n",
       "      <td>1.0</td>\n",
       "      <td>0.0</td>\n",
       "    </tr>\n",
       "    <tr>\n",
       "      <th>2</th>\n",
       "      <td>0</td>\n",
       "      <td>0</td>\n",
       "      <td>1.0</td>\n",
       "      <td>5</td>\n",
       "      <td>8.25</td>\n",
       "      <td>1.0</td>\n",
       "      <td>1.0</td>\n",
       "      <td>0.0</td>\n",
       "      <td>0.0</td>\n",
       "      <td>0.0</td>\n",
       "      <td>...</td>\n",
       "      <td>0.0</td>\n",
       "      <td>0.0</td>\n",
       "      <td>0.0</td>\n",
       "      <td>0.0</td>\n",
       "      <td>0.0</td>\n",
       "      <td>0.0</td>\n",
       "      <td>0.0</td>\n",
       "      <td>0.0</td>\n",
       "      <td>1.0</td>\n",
       "      <td>0.0</td>\n",
       "    </tr>\n",
       "  </tbody>\n",
       "</table>\n",
       "<p>3 rows × 40 columns</p>\n",
       "</div>"
      ],
      "text/plain": [
       "   hidden  is_lp  is_cancelled  join_dayofweek  target  STV  \\\n",
       "0       0      0           1.0               5    8.25  1.0   \n",
       "1       0      0           1.0               5    8.25  1.0   \n",
       "2       0      0           1.0               5    8.25  1.0   \n",
       "\n",
       "   product_type_type_ex  product_type_type_p  product_type_type_u  \\\n",
       "0                   1.0                  0.0                  0.0   \n",
       "1                   1.0                  0.0                  0.0   \n",
       "2                   1.0                  0.0                  0.0   \n",
       "\n",
       "   product_type_type_x  ...  country_segment_LK  country_segment_MY  \\\n",
       "0                  0.0  ...                 0.0                 0.0   \n",
       "1                  0.0  ...                 0.0                 0.0   \n",
       "2                  0.0  ...                 0.0                 0.0   \n",
       "\n",
       "   country_segment_NG  country_segment_NZ  country_segment_Other Countries  \\\n",
       "0                 0.0                 0.0                              0.0   \n",
       "1                 0.0                 0.0                              0.0   \n",
       "2                 0.0                 0.0                              0.0   \n",
       "\n",
       "   country_segment_RU  country_segment_SG  country_segment_TH  \\\n",
       "0                 0.0                 0.0                 0.0   \n",
       "1                 0.0                 0.0                 0.0   \n",
       "2                 0.0                 0.0                 0.0   \n",
       "\n",
       "   country_segment_US  country_segment_ZA  \n",
       "0                 1.0                 0.0  \n",
       "1                 1.0                 0.0  \n",
       "2                 1.0                 0.0  \n",
       "\n",
       "[3 rows x 40 columns]"
      ]
     },
     "execution_count": 57,
     "metadata": {},
     "output_type": "execute_result"
    }
   ],
   "source": [
    "from sklearn.preprocessing import OneHotEncoder\n",
    "from sklearn.preprocessing import RobustScaler\n",
    "\n",
    "class Preprocessor(object):\n",
    "    \n",
    "    def __init__(self, train_data):\n",
    "        train_data = Preprocessor._remove_null_values(train_data)\n",
    "        self.train_data = train_data\n",
    "        # Categorical data\n",
    "        categorical_cols = self.categorical_cols()\n",
    "        self.one_hot_encoder = Preprocessor._create_one_hot_encoder(train_data, categorical_cols)\n",
    "        \n",
    "        # Scaling STV column with robust because there are some outliers.\n",
    "        robust_scalar_cols = self.robust_scalar_cols()\n",
    "        X_rs = train_data[robust_scalar_cols]\n",
    "        self.robust_scaler = Preprocessor._create_robust_scaler(X_rs, robust_scalar_cols)\n",
    "    \n",
    "    @classmethod\n",
    "    def _remove_null_values(cls, df):\n",
    "        df.is_cancelled = df.is_cancelled.fillna(1)\n",
    "        df = df.dropna().reset_index(drop=True)\n",
    "        return df\n",
    "    \n",
    "    def columns_to_ignore(self):\n",
    "        return [ID,TARGET,'join_date','user_id','join_day','join_week','STV']\n",
    "    \n",
    "    def robust_scalar_cols(self):\n",
    "        return [\"STV\"]\n",
    "    \n",
    "    def categorical_cols(self):\n",
    "        if not len(self.train_data) >= 0:\n",
    "            raise Exception(\"Please, first set train_data\")\n",
    "        columns_to_avoid = self.columns_to_ignore()\n",
    "        return [c for c in list(self.train_data.select_dtypes(include='object').columns) if c not in columns_to_avoid]\n",
    "    \n",
    "    @classmethod\n",
    "    def _create_one_hot_encoder(cls, df, categorical_cols):\n",
    "        one_hot_encoder = OneHotEncoder(handle_unknown='ignore')\n",
    "        X_categorical = df[categorical_cols]\n",
    "        one_hot_encoder.fit(X_categorical)\n",
    "        return one_hot_encoder\n",
    "    \n",
    "    def _transform_categoricals(self, df):\n",
    "        X_categorical = df[self.categorical_cols()]\n",
    "        cat_train = self.one_hot_encoder.transform(X_categorical)\n",
    "        return pd.DataFrame(cat_train.toarray(),\n",
    "                            columns=self.one_hot_encoder.get_feature_names(X_categorical.columns))\n",
    "    \n",
    "    @classmethod\n",
    "    def _create_robust_scaler(cls, df, robust_scalar_cols):\n",
    "        X_rs = df[robust_scalar_cols]\n",
    "        return RobustScaler().fit(X_rs)\n",
    "    \n",
    "    def _transform_robust_scalers(self, df):\n",
    "        X_rs = df[self.robust_scalar_cols()]\n",
    "        return pd.DataFrame(self.robust_scaler.transform(X_rs),columns=X_rs.columns)\n",
    "    \n",
    "    \n",
    "    def preprocess(self, data, preserve=[]):\n",
    "        data = Preprocessor._remove_null_values(data)\n",
    "        data.join_date = pd.to_datetime(data.join_date)\n",
    "        data['join_dayofweek'] = data.join_date.dt.dayofweek\n",
    "        \n",
    "        X_cat = self._transform_categoricals(data)\n",
    "        Xt = self._transform_robust_scalers(data)\n",
    "        \n",
    "        # other columns/binary\n",
    "        columns_to_ignore = self.columns_to_ignore() + self.categorical_cols()\n",
    "        features = [f for f in list(data.columns) if f not in columns_to_ignore]\n",
    "        features = features + preserve\n",
    "        X_other = data[features]\n",
    "        \n",
    "        # Merging numerical columns and categorical columns\n",
    "        X = pd.concat([X_other, Xt, X_cat],axis=1)\n",
    "        return X\n",
    "\n",
    "preprocessor = Preprocessor(filtered_train)\n",
    "preprocessed_train = preprocessor.preprocess(filtered_train,preserve=['target'])\n",
    "preprocessed_train.head(3)"
   ]
  },
  {
   "cell_type": "code",
   "execution_count": 59,
   "metadata": {},
   "outputs": [],
   "source": [
    "from sklearn.model_selection import train_test_split\n",
    "\n",
    "\n",
    "y = preprocessed_train[TARGET]\n",
    "X = preprocessed_train.drop([TARGET],axis=1)\n",
    "\n",
    "# Splitting data\n",
    "X_train, X_valid, y_train, y_valid = train_test_split(X, \n",
    "                                                      y, \n",
    "                                                      test_size=0.10, \n",
    "                                                      random_state=42)"
   ]
  },
  {
   "cell_type": "markdown",
   "metadata": {},
   "source": [
    "### Tree Regressor - Feature Importance"
   ]
  },
  {
   "cell_type": "code",
   "execution_count": 60,
   "metadata": {},
   "outputs": [],
   "source": [
    "def create_importance_df(features, model_name, importance_values):\n",
    "    importance = pd.DataFrame(X.columns, columns=['feature'])\n",
    "    importance[\"model\"] = model_name\n",
    "    importance['importance_value'] = importance_values\n",
    "    importance.sort_values(by='importance_value',ascending=False)\n",
    "    return importance"
   ]
  },
  {
   "cell_type": "code",
   "execution_count": 61,
   "metadata": {},
   "outputs": [
    {
     "name": "stdout",
     "output_type": "stream",
     "text": [
      "R^2 Training Score: 0.65 \n",
      "R^2 Validation Score: 0.57 \n",
      "\n"
     ]
    },
    {
     "data": {
      "text/html": [
       "<div>\n",
       "<style scoped>\n",
       "    .dataframe tbody tr th:only-of-type {\n",
       "        vertical-align: middle;\n",
       "    }\n",
       "\n",
       "    .dataframe tbody tr th {\n",
       "        vertical-align: top;\n",
       "    }\n",
       "\n",
       "    .dataframe thead th {\n",
       "        text-align: right;\n",
       "    }\n",
       "</style>\n",
       "<table border=\"1\" class=\"dataframe\">\n",
       "  <thead>\n",
       "    <tr style=\"text-align: right;\">\n",
       "      <th></th>\n",
       "      <th>feature</th>\n",
       "      <th>importance_value</th>\n",
       "    </tr>\n",
       "  </thead>\n",
       "  <tbody>\n",
       "    <tr>\n",
       "      <th>0</th>\n",
       "      <td>hidden</td>\n",
       "      <td>5.561789e-03</td>\n",
       "    </tr>\n",
       "    <tr>\n",
       "      <th>1</th>\n",
       "      <td>is_lp</td>\n",
       "      <td>4.538991e-03</td>\n",
       "    </tr>\n",
       "    <tr>\n",
       "      <th>2</th>\n",
       "      <td>is_cancelled</td>\n",
       "      <td>4.554001e-02</td>\n",
       "    </tr>\n",
       "    <tr>\n",
       "      <th>3</th>\n",
       "      <td>join_dayofweek</td>\n",
       "      <td>1.893759e-02</td>\n",
       "    </tr>\n",
       "    <tr>\n",
       "      <th>4</th>\n",
       "      <td>STV</td>\n",
       "      <td>8.819592e-01</td>\n",
       "    </tr>\n",
       "    <tr>\n",
       "      <th>5</th>\n",
       "      <td>product_type_type_ex</td>\n",
       "      <td>7.858198e-10</td>\n",
       "    </tr>\n",
       "    <tr>\n",
       "      <th>6</th>\n",
       "      <td>product_type_type_p</td>\n",
       "      <td>1.282189e-03</td>\n",
       "    </tr>\n",
       "    <tr>\n",
       "      <th>7</th>\n",
       "      <td>product_type_type_u</td>\n",
       "      <td>1.575772e-03</td>\n",
       "    </tr>\n",
       "    <tr>\n",
       "      <th>8</th>\n",
       "      <td>product_type_type_x</td>\n",
       "      <td>1.333720e-03</td>\n",
       "    </tr>\n",
       "    <tr>\n",
       "      <th>9</th>\n",
       "      <td>product_product_1</td>\n",
       "      <td>2.884168e-03</td>\n",
       "    </tr>\n",
       "  </tbody>\n",
       "</table>\n",
       "</div>"
      ],
      "text/plain": [
       "                feature  importance_value\n",
       "0                hidden      5.561789e-03\n",
       "1                 is_lp      4.538991e-03\n",
       "2          is_cancelled      4.554001e-02\n",
       "3        join_dayofweek      1.893759e-02\n",
       "4                   STV      8.819592e-01\n",
       "5  product_type_type_ex      7.858198e-10\n",
       "6   product_type_type_p      1.282189e-03\n",
       "7   product_type_type_u      1.575772e-03\n",
       "8   product_type_type_x      1.333720e-03\n",
       "9     product_product_1      2.884168e-03"
      ]
     },
     "execution_count": 61,
     "metadata": {},
     "output_type": "execute_result"
    }
   ],
   "source": [
    "# decision tree for feature importance on a regression problem\n",
    "from sklearn.datasets import make_regression\n",
    "from sklearn.tree import DecisionTreeRegressor\n",
    "from matplotlib import pyplot\n",
    "# define dataset\n",
    "\n",
    "# define the model\n",
    "model = DecisionTreeRegressor()\n",
    "# fit the model\n",
    "model.fit(X_train, y_train)\n",
    "\n",
    "print('R^2 Training Score: {:.2f} \\nR^2 Validation Score: {:.2f} \\n'.format(model.score(X_train, y_train), \n",
    "                                                                         model.score(X_valid, y_valid)))\n",
    "\n",
    "# get importance\n",
    "importance_tree = create_importance_df(features= list(X.columns), \n",
    "                                       model_name=\"tree_regressor\", \n",
    "                                       importance_values=model.feature_importances_ )\n",
    "importance_tree.head(10)[['feature','importance_value']]"
   ]
  },
  {
   "cell_type": "markdown",
   "metadata": {},
   "source": [
    "### Lasso Regressor - Feature Importance"
   ]
  },
  {
   "cell_type": "code",
   "execution_count": 62,
   "metadata": {},
   "outputs": [
    {
     "name": "stdout",
     "output_type": "stream",
     "text": [
      "R^2 Training Score: 0.58 \n",
      "R^2 Validation Score: 0.59\n",
      "\n"
     ]
    },
    {
     "data": {
      "text/html": [
       "<div>\n",
       "<style scoped>\n",
       "    .dataframe tbody tr th:only-of-type {\n",
       "        vertical-align: middle;\n",
       "    }\n",
       "\n",
       "    .dataframe tbody tr th {\n",
       "        vertical-align: top;\n",
       "    }\n",
       "\n",
       "    .dataframe thead th {\n",
       "        text-align: right;\n",
       "    }\n",
       "</style>\n",
       "<table border=\"1\" class=\"dataframe\">\n",
       "  <thead>\n",
       "    <tr style=\"text-align: right;\">\n",
       "      <th></th>\n",
       "      <th>feature</th>\n",
       "      <th>importance_value</th>\n",
       "    </tr>\n",
       "  </thead>\n",
       "  <tbody>\n",
       "    <tr>\n",
       "      <th>0</th>\n",
       "      <td>hidden</td>\n",
       "      <td>0.451210</td>\n",
       "    </tr>\n",
       "    <tr>\n",
       "      <th>1</th>\n",
       "      <td>is_lp</td>\n",
       "      <td>-0.068676</td>\n",
       "    </tr>\n",
       "    <tr>\n",
       "      <th>2</th>\n",
       "      <td>is_cancelled</td>\n",
       "      <td>-4.386739</td>\n",
       "    </tr>\n",
       "    <tr>\n",
       "      <th>3</th>\n",
       "      <td>join_dayofweek</td>\n",
       "      <td>0.047983</td>\n",
       "    </tr>\n",
       "    <tr>\n",
       "      <th>4</th>\n",
       "      <td>STV</td>\n",
       "      <td>10.419603</td>\n",
       "    </tr>\n",
       "    <tr>\n",
       "      <th>5</th>\n",
       "      <td>product_type_type_ex</td>\n",
       "      <td>-1.864195</td>\n",
       "    </tr>\n",
       "    <tr>\n",
       "      <th>6</th>\n",
       "      <td>product_type_type_p</td>\n",
       "      <td>-0.087590</td>\n",
       "    </tr>\n",
       "    <tr>\n",
       "      <th>7</th>\n",
       "      <td>product_type_type_u</td>\n",
       "      <td>0.000000</td>\n",
       "    </tr>\n",
       "    <tr>\n",
       "      <th>8</th>\n",
       "      <td>product_type_type_x</td>\n",
       "      <td>1.263370</td>\n",
       "    </tr>\n",
       "    <tr>\n",
       "      <th>9</th>\n",
       "      <td>product_product_1</td>\n",
       "      <td>0.215549</td>\n",
       "    </tr>\n",
       "  </tbody>\n",
       "</table>\n",
       "</div>"
      ],
      "text/plain": [
       "                feature  importance_value\n",
       "0                hidden          0.451210\n",
       "1                 is_lp         -0.068676\n",
       "2          is_cancelled         -4.386739\n",
       "3        join_dayofweek          0.047983\n",
       "4                   STV         10.419603\n",
       "5  product_type_type_ex         -1.864195\n",
       "6   product_type_type_p         -0.087590\n",
       "7   product_type_type_u          0.000000\n",
       "8   product_type_type_x          1.263370\n",
       "9     product_product_1          0.215549"
      ]
     },
     "execution_count": 62,
     "metadata": {},
     "output_type": "execute_result"
    }
   ],
   "source": [
    "from sklearn.linear_model import Lasso\n",
    "# define the model\n",
    "model = Lasso(alpha=0.01)\n",
    "# fit the model\n",
    "model.fit(X_train, y_train)\n",
    "\n",
    "print('R^2 Training Score: {:.2f} \\nR^2 Validation Score: {:.2f}\\n'.format(model.score(X_train, y_train), \n",
    "                                                                         model.score(X_valid, y_valid)))\n",
    "\n",
    "# get importance\n",
    "importance_lasso = create_importance_df(features = list(X.columns), \n",
    "                                       model_name = \"lasso_regressor\", \n",
    "                                       importance_values = model.coef_ )\n",
    "importance_lasso.head(10)[['feature','importance_value']]"
   ]
  },
  {
   "cell_type": "markdown",
   "metadata": {},
   "source": [
    "## Feature Selection"
   ]
  },
  {
   "cell_type": "markdown",
   "metadata": {},
   "source": [
    "I will use a feature importance technique to select the most important features automatically, but I will check if this features make sense with what I see previously in our EDA.\n",
    "\n",
    "In the next graph, we will see lasso and tree_regressor importance values, this is for an ocular inspection if it make sense."
   ]
  },
  {
   "cell_type": "code",
   "execution_count": 63,
   "metadata": {},
   "outputs": [
    {
     "data": {
      "image/png": "[encoded data removed]",
      "text/plain": [
       "<Figure size 576x1080 with 1 Axes>"
      ]
     },
     "metadata": {
      "needs_background": "light"
     },
     "output_type": "display_data"
    }
   ],
   "source": [
    "def column_share(df, col):\n",
    "    return round(100.0*df[col].abs()/(df[col].abs().sum()),2)\n",
    "\n",
    "importance_tree['share'] = column_share(importance_tree,\"importance_value\")\n",
    "importance_lasso['share'] = column_share(importance_lasso,\"importance_value\")\n",
    "importance = pd.concat([importance_tree,importance_lasso]).reset_index(drop=True)\n",
    "importance = importance[[\"feature\",\"share\",\"model\"]].sort_values(by=['share','feature'],ascending=False)\n",
    "\n",
    "plt.figure(figsize=(8,15))\n",
    "ax = sns.barplot(data=importance, x=\"share\", y=\"feature\", hue='model')\n",
    "plt.show()"
   ]
  },
  {
   "cell_type": "code",
   "execution_count": 65,
   "metadata": {},
   "outputs": [
    {
     "data": {
      "text/plain": [
       "['STV',\n",
       " 'aff_type_PPL',\n",
       " 'aff_type_PPS',\n",
       " 'country_segment_AU',\n",
       " 'country_segment_CA',\n",
       " 'country_segment_GB',\n",
       " 'country_segment_IL',\n",
       " 'country_segment_NG',\n",
       " 'country_segment_Other Countries',\n",
       " 'country_segment_RU',\n",
       " 'country_segment_US',\n",
       " 'credit_card_level_prepaid',\n",
       " 'credit_card_level_standard',\n",
       " 'hidden',\n",
       " 'is_cancelled',\n",
       " 'is_lp',\n",
       " 'join_dayofweek',\n",
       " 'product_product_1',\n",
       " 'product_product_2',\n",
       " 'product_product_3',\n",
       " 'product_product_4',\n",
       " 'product_type_type_ex',\n",
       " 'product_type_type_p',\n",
       " 'product_type_type_u',\n",
       " 'product_type_type_x']"
      ]
     },
     "execution_count": 65,
     "metadata": {},
     "output_type": "execute_result"
    }
   ],
   "source": [
    "def get_best_features(importance, importance_threshold=0.5):\n",
    "    cumuled_importance = importance.groupby(\"feature\").sum().reset_index()\n",
    "    share_restriction = cumuled_importance.share > importance_threshold\n",
    "    best_features_list = list(cumuled_importance[share_restriction].feature.unique())\n",
    "    return best_features_list\n",
    "\n",
    "importance_threshold = 0.1\n",
    "best_features_list = get_best_features(importance, importance_threshold)\n",
    "\n",
    "X_train_best_features = X_train.copy()[best_features_list]\n",
    "X_valid_best_features = X_valid.copy()[best_features_list]\n",
    "best_features_list"
   ]
  },
  {
   "cell_type": "markdown",
   "metadata": {},
   "source": [
    "### Conclussion \n",
    "\n",
    " The best features selected by our _feature importance_ process are highly correlated with what we check in our EDA. Is innecesary have a lot of countries or features in general if his behaviour is always the same."
   ]
  },
  {
   "cell_type": "markdown",
   "metadata": {},
   "source": [
    "## Training"
   ]
  },
  {
   "cell_type": "markdown",
   "metadata": {},
   "source": [
    "I will try different models and differents hyperparameters(Using grid search) looking for the best combination.\n",
    "At the end, I will train a new model by each product, in order to get the best perfomance in each one."
   ]
  },
  {
   "cell_type": "markdown",
   "metadata": {},
   "source": [
    "### Looking for the best model and hyper-parameters"
   ]
  },
  {
   "cell_type": "code",
   "execution_count": 66,
   "metadata": {},
   "outputs": [
    {
     "name": "stdout",
     "output_type": "stream",
     "text": [
      "Fitting 2 folds for each of 9 candidates, totalling 18 fits\n"
     ]
    },
    {
     "name": "stderr",
     "output_type": "stream",
     "text": [
      "[Parallel(n_jobs=2)]: Using backend LokyBackend with 2 concurrent workers.\n",
      "[Parallel(n_jobs=2)]: Done  18 out of  18 | elapsed:  9.3min finished\n"
     ]
    },
    {
     "name": "stdout",
     "output_type": "stream",
     "text": [
      "Best Score:  0.6062840216144081\n",
      "Best Params:  {'max_depth': 10, 'min_samples_split': 100}\n"
     ]
    }
   ],
   "source": [
    "from sklearn.ensemble import RandomForestRegressor\n",
    "from sklearn.model_selection import GridSearchCV\n",
    "\n",
    "random_forest = RandomForestRegressor(n_jobs = 3,\n",
    "                                      n_estimators=100,\n",
    "                                      random_state = 42)\n",
    "\n",
    "param_grid = {\"min_samples_split\":[50,100,200],\"max_depth\":[5,10,15]}\n",
    "grid = GridSearchCV(estimator=random_forest, param_grid=param_grid, scoring='r2',cv=2, verbose=1, n_jobs=2)\n",
    "grid_result = grid.fit(X_train_best_features, y_train)\n",
    "model = grid_result.best_estimator_\n",
    "print('Best Score: ', grid_result.best_score_)\n",
    "print('Best Params: ', grid_result.best_params_)"
   ]
  },
  {
   "cell_type": "code",
   "execution_count": 67,
   "metadata": {},
   "outputs": [
    {
     "name": "stdout",
     "output_type": "stream",
     "text": [
      "R^2 Training Score: 0.61 \n",
      "R^2 Validation Score: 0.61\n"
     ]
    }
   ],
   "source": [
    "print('R^2 Training Score: {:.2f} \\nR^2 Validation Score: {:.2f}'.format(model.score(X_train_best_features, y_train),\n",
    "                                                                         model.score(X_valid_best_features, y_valid)))"
   ]
  },
  {
   "cell_type": "code",
   "execution_count": 68,
   "metadata": {},
   "outputs": [
    {
     "name": "stdout",
     "output_type": "stream",
     "text": [
      "Fitting 2 folds for each of 14 candidates, totalling 28 fits\n"
     ]
    },
    {
     "name": "stderr",
     "output_type": "stream",
     "text": [
      "[Parallel(n_jobs=-1)]: Using backend LokyBackend with 8 concurrent workers.\n",
      "[Parallel(n_jobs=-1)]: Done  28 out of  28 | elapsed:  1.4min finished\n"
     ]
    },
    {
     "name": "stdout",
     "output_type": "stream",
     "text": [
      "Best Score:  0.5827341009251432\n",
      "Best Params:  {'alpha': 0.001, 'fit_intercept': True}\n"
     ]
    }
   ],
   "source": [
    "from sklearn.linear_model import Lasso\n",
    "from sklearn.model_selection import GridSearchCV\n",
    "\n",
    "ridge = Lasso()\n",
    "alpha = [0.001, 0.01, 0.1, 1, 10, 100, 1000]\n",
    "param_grid = {\"alpha\":alpha, \"fit_intercept\":[True,False] }\n",
    "grid = GridSearchCV(estimator=ridge, cv=2, param_grid=param_grid, scoring='r2', verbose=1, n_jobs=-1)\n",
    "grid_result = grid.fit(X_train_best_features, y_train)\n",
    "model = grid_result.best_estimator_\n",
    "print('Best Score: ', grid_result.best_score_)\n",
    "print('Best Params: ', grid_result.best_params_)"
   ]
  },
  {
   "cell_type": "code",
   "execution_count": 69,
   "metadata": {},
   "outputs": [
    {
     "name": "stdout",
     "output_type": "stream",
     "text": [
      "R^2 Training Score: 0.58 \n",
      "R^2 Validation Score: 0.59\n"
     ]
    }
   ],
   "source": [
    "print('R^2 Training Score: {:.2f} \\nR^2 Validation Score: {:.2f}'.format(model.score(X_train_best_features, y_train),\n",
    "                                                                         model.score(X_valid_best_features, y_valid)))"
   ]
  },
  {
   "cell_type": "markdown",
   "metadata": {},
   "source": [
    "### Training Final model"
   ]
  },
  {
   "cell_type": "markdown",
   "metadata": {},
   "source": [
    "In order to train the final model, we will create an specific model for each product_type. So we will have a r2 metric for each product_type, and additionally we will create a final one."
   ]
  },
  {
   "cell_type": "code",
   "execution_count": 91,
   "metadata": {},
   "outputs": [
    {
     "name": "stdout",
     "output_type": "stream",
     "text": [
      "type_p R^2 Training Score: 0.66 \n",
      "R^2 Validation Score: 0.65\n",
      "Share: 5.2e+01% \n",
      "\n",
      "type_x R^2 Training Score: 0.58 \n",
      "R^2 Validation Score: 0.59\n",
      "Share: 3.2e+01% \n",
      "\n",
      "type_ex R^2 Training Score: 0.97 \n",
      "R^2 Validation Score: 0.98\n",
      "Share: 8.8% \n",
      "\n",
      "type_u R^2 Training Score: 0.58 \n",
      "R^2 Validation Score: 0.57\n",
      "Share: 6.5% \n",
      "\n",
      "Final R^2 metric:\n"
     ]
    },
    {
     "data": {
      "text/plain": [
       "0.6530815602802659"
      ]
     },
     "execution_count": 91,
     "metadata": {},
     "output_type": "execute_result"
    }
   ],
   "source": [
    "from sklearn.linear_model import Ridge\n",
    "from matplotlib import pyplot\n",
    "scores = {}\n",
    "\n",
    "def filter_by_product_type(df,p):\n",
    "    return df[\"product_type_\"+p].abs() > 0\n",
    "\n",
    "def filter_by_country_segment(df, cs):\n",
    "    return df[\"country_segment_\"+cs].abs() > 0\n",
    "\n",
    "for p in PRODUCT_TYPE_IMPORTANCE_ORDER:\n",
    "    X_train_by_ptype = X_train_best_features[filter_by_product_type(X_train, p)]\n",
    "    y_train_by_ptype = y_train[filter_by_product_type(X_train, p)]\n",
    "    X_valid_by_ptype = X_valid_best_features[filter_by_product_type(X_valid, p)]\n",
    "    y_valid_by_ptype = y_valid[filter_by_product_type(X_valid, p)]\n",
    "    # define the model\n",
    "    model = RandomForestRegressor(n_jobs = 8,\n",
    "                                  n_estimators=100,\n",
    "                                  min_samples_split=200,\n",
    "                                  max_depth = 15,\n",
    "                                  random_state = 42)\n",
    "    # fit the model\n",
    "    model.fit(X_train_by_ptype, y_train_by_ptype)\n",
    "    share = len(X_valid_by_ptype)/len(X_valid)\n",
    "    \n",
    "    score_train = model.score(X_train_by_ptype, y_train_by_ptype)\n",
    "    score_valid = model.score(X_valid_by_ptype, y_valid_by_ptype)\n",
    "    scores[p] = {\"share\":share, \"score_valid\":score_valid, \"model\":model}\n",
    "    print('{:} R^2 Training Score: {:.2f} \\nR^2 Validation Score: {:.2f}'.format(p,\n",
    "                                                                                 score_train,\n",
    "                                                                                 score_valid))\n",
    "    print(\"Share: {:.2}% \\n\".format(100.0*share))\n",
    "\n",
    "print(\"Final R^2 metric:\")\n",
    "final_score = 0\n",
    "for k in scores.keys():\n",
    "    final_score += scores[k][\"share\"]*scores[k][\"score_valid\"]\n",
    "final_score"
   ]
  },
  {
   "cell_type": "markdown",
   "metadata": {},
   "source": [
    "Our model was better with the feature selection process and segmenting by each product. So the next step is predict our test set."
   ]
  },
  {
   "cell_type": "markdown",
   "metadata": {},
   "source": [
    "### Working with our test set"
   ]
  },
  {
   "cell_type": "code",
   "execution_count": 81,
   "metadata": {},
   "outputs": [
    {
     "name": "stdout",
     "output_type": "stream",
     "text": [
      "138017\n"
     ]
    },
    {
     "data": {
      "text/plain": [
       "(138016, 40)"
      ]
     },
     "execution_count": 81,
     "metadata": {},
     "output_type": "execute_result"
    }
   ],
   "source": [
    "test = pd.read_csv(\"test.csv\")\n",
    "print(len(test))\n",
    "X_test = preprocessor.preprocess(test, preserve=[\"join_date\"])\n",
    "X_test.shape"
   ]
  },
  {
   "cell_type": "code",
   "execution_count": 86,
   "metadata": {},
   "outputs": [
    {
     "data": {
      "text/plain": [
       "(138016, 41)"
      ]
     },
     "execution_count": 86,
     "metadata": {},
     "output_type": "execute_result"
    }
   ],
   "source": [
    "X_test_best_features = X_test[best_features_list]\n",
    "test_df_list = []\n",
    "for product_type in scores.keys():\n",
    "    ptype_filter = filter_by_product_type(X_test, product_type)\n",
    "    X_test_by_ptype = X_test_best_features[ptype_filter].reset_index(drop=True)\n",
    "    new_df_test = X_test[ptype_filter].reset_index(drop=True)\n",
    "    new_df_test['prediction'] = scores[product_type][\"model\"].predict(X_test_by_ptype)\n",
    "    test_df_list.append(new_df_test)\n",
    "test_df = pd.concat(test_df_list)\n",
    "test_df.shape"
   ]
  },
  {
   "cell_type": "code",
   "execution_count": 87,
   "metadata": {},
   "outputs": [
    {
     "data": {
      "text/plain": [
       "array(['US', 'GB', 'AU', 'Other Countries', 'RU', 'CA', 'IL', 'NG', 'NZ',\n",
       "       'CL', 'MY', 'SG', 'TH', 'ZA', 'LK'], dtype=object)"
      ]
     },
     "execution_count": 87,
     "metadata": {},
     "output_type": "execute_result"
    }
   ],
   "source": [
    "country_segments = test.country_segment.unique()\n",
    "product_types = test.product_type.unique()\n",
    "\n",
    "test_df['product_type'] = \"nan\"\n",
    "for p in product_types:\n",
    "    p_filter = filter_by_product_type(test_df, p)\n",
    "    test_df.loc[p_filter, \"product_type\"] = p\n",
    "\n",
    "test_df['country_segment'] = \"nan\"\n",
    "for cs in country_segments:\n",
    "    p_filter = filter_by_country_segment(test_df, cs)\n",
    "    test_df.loc[p_filter, \"country_segment\"] = cs\n",
    "\n",
    "test_df.country_segment.unique()"
   ]
  },
  {
   "cell_type": "code",
   "execution_count": 88,
   "metadata": {},
   "outputs": [],
   "source": [
    "test_df[\"join_day\"] = test_df['join_date'].dt.to_period('M').dt.to_timestamp()\n",
    "table = pd.pivot_table(test_df, values='prediction', index=['join_day','country_segment'],\n",
    "                       columns=['product_type'], aggfunc=np.mean)\n",
    "table.to_csv(\"submission.csv\")"
   ]
  },
  {
   "cell_type": "code",
   "execution_count": 89,
   "metadata": {},
   "outputs": [
    {
     "data": {
      "text/html": [
       "<div>\n",
       "<style scoped>\n",
       "    .dataframe tbody tr th:only-of-type {\n",
       "        vertical-align: middle;\n",
       "    }\n",
       "\n",
       "    .dataframe tbody tr th {\n",
       "        vertical-align: top;\n",
       "    }\n",
       "\n",
       "    .dataframe thead th {\n",
       "        text-align: right;\n",
       "    }\n",
       "</style>\n",
       "<table border=\"1\" class=\"dataframe\">\n",
       "  <thead>\n",
       "    <tr style=\"text-align: right;\">\n",
       "      <th></th>\n",
       "      <th>product_type</th>\n",
       "      <th>type_ex</th>\n",
       "      <th>type_p</th>\n",
       "      <th>type_u</th>\n",
       "      <th>type_x</th>\n",
       "    </tr>\n",
       "    <tr>\n",
       "      <th>join_day</th>\n",
       "      <th>country_segment</th>\n",
       "      <th></th>\n",
       "      <th></th>\n",
       "      <th></th>\n",
       "      <th></th>\n",
       "    </tr>\n",
       "  </thead>\n",
       "  <tbody>\n",
       "    <tr>\n",
       "      <th rowspan=\"15\" valign=\"top\">2019-07-01</th>\n",
       "      <th>AU</th>\n",
       "      <td>8.326707</td>\n",
       "      <td>9.628801</td>\n",
       "      <td>9.859835</td>\n",
       "      <td>14.781412</td>\n",
       "    </tr>\n",
       "    <tr>\n",
       "      <th>CA</th>\n",
       "      <td>8.619550</td>\n",
       "      <td>6.811362</td>\n",
       "      <td>5.709624</td>\n",
       "      <td>10.280012</td>\n",
       "    </tr>\n",
       "    <tr>\n",
       "      <th>CL</th>\n",
       "      <td>8.250000</td>\n",
       "      <td>8.208589</td>\n",
       "      <td>7.437768</td>\n",
       "      <td>12.554862</td>\n",
       "    </tr>\n",
       "    <tr>\n",
       "      <th>GB</th>\n",
       "      <td>8.275528</td>\n",
       "      <td>9.999345</td>\n",
       "      <td>12.104598</td>\n",
       "      <td>17.683199</td>\n",
       "    </tr>\n",
       "    <tr>\n",
       "      <th>IL</th>\n",
       "      <td>8.336331</td>\n",
       "      <td>22.576277</td>\n",
       "      <td>24.581949</td>\n",
       "      <td>39.862396</td>\n",
       "    </tr>\n",
       "    <tr>\n",
       "      <th>LK</th>\n",
       "      <td>8.957364</td>\n",
       "      <td>6.367983</td>\n",
       "      <td>6.426784</td>\n",
       "      <td>10.430463</td>\n",
       "    </tr>\n",
       "    <tr>\n",
       "      <th>MY</th>\n",
       "      <td>8.308933</td>\n",
       "      <td>9.290980</td>\n",
       "      <td>7.124344</td>\n",
       "      <td>11.817856</td>\n",
       "    </tr>\n",
       "    <tr>\n",
       "      <th>NG</th>\n",
       "      <td>8.273060</td>\n",
       "      <td>6.476716</td>\n",
       "      <td>5.740007</td>\n",
       "      <td>5.005112</td>\n",
       "    </tr>\n",
       "    <tr>\n",
       "      <th>NZ</th>\n",
       "      <td>8.520492</td>\n",
       "      <td>11.591156</td>\n",
       "      <td>10.852084</td>\n",
       "      <td>16.312655</td>\n",
       "    </tr>\n",
       "    <tr>\n",
       "      <th>Other Countries</th>\n",
       "      <td>8.409041</td>\n",
       "      <td>8.220410</td>\n",
       "      <td>7.783149</td>\n",
       "      <td>11.008999</td>\n",
       "    </tr>\n",
       "    <tr>\n",
       "      <th>RU</th>\n",
       "      <td>8.250162</td>\n",
       "      <td>5.913123</td>\n",
       "      <td>5.103016</td>\n",
       "      <td>5.239399</td>\n",
       "    </tr>\n",
       "    <tr>\n",
       "      <th>SG</th>\n",
       "      <td>8.250158</td>\n",
       "      <td>11.573696</td>\n",
       "      <td>9.166973</td>\n",
       "      <td>14.606644</td>\n",
       "    </tr>\n",
       "    <tr>\n",
       "      <th>TH</th>\n",
       "      <td>8.250000</td>\n",
       "      <td>5.119843</td>\n",
       "      <td>5.231553</td>\n",
       "      <td>9.218153</td>\n",
       "    </tr>\n",
       "    <tr>\n",
       "      <th>US</th>\n",
       "      <td>8.559330</td>\n",
       "      <td>6.780548</td>\n",
       "      <td>7.759714</td>\n",
       "      <td>10.704210</td>\n",
       "    </tr>\n",
       "    <tr>\n",
       "      <th>ZA</th>\n",
       "      <td>8.529682</td>\n",
       "      <td>10.603514</td>\n",
       "      <td>8.141872</td>\n",
       "      <td>13.731526</td>\n",
       "    </tr>\n",
       "  </tbody>\n",
       "</table>\n",
       "</div>"
      ],
      "text/plain": [
       "product_type                 type_ex     type_p     type_u     type_x\n",
       "join_day   country_segment                                           \n",
       "2019-07-01 AU               8.326707   9.628801   9.859835  14.781412\n",
       "           CA               8.619550   6.811362   5.709624  10.280012\n",
       "           CL               8.250000   8.208589   7.437768  12.554862\n",
       "           GB               8.275528   9.999345  12.104598  17.683199\n",
       "           IL               8.336331  22.576277  24.581949  39.862396\n",
       "           LK               8.957364   6.367983   6.426784  10.430463\n",
       "           MY               8.308933   9.290980   7.124344  11.817856\n",
       "           NG               8.273060   6.476716   5.740007   5.005112\n",
       "           NZ               8.520492  11.591156  10.852084  16.312655\n",
       "           Other Countries  8.409041   8.220410   7.783149  11.008999\n",
       "           RU               8.250162   5.913123   5.103016   5.239399\n",
       "           SG               8.250158  11.573696   9.166973  14.606644\n",
       "           TH               8.250000   5.119843   5.231553   9.218153\n",
       "           US               8.559330   6.780548   7.759714  10.704210\n",
       "           ZA               8.529682  10.603514   8.141872  13.731526"
      ]
     },
     "execution_count": 89,
     "metadata": {},
     "output_type": "execute_result"
    }
   ],
   "source": [
    "table"
   ]
  },
  {
   "cell_type": "code",
   "execution_count": null,
   "metadata": {},
   "outputs": [],
   "source": []
  }
 ],
 "metadata": {
  "kernelspec": {
   "display_name": "Python 3",
   "language": "python",
   "name": "python3"
  },
  "language_info": {
   "codemirror_mode": {
    "name": "ipython",
    "version": 3
   },
   "file_extension": ".py",
   "mimetype": "text/x-python",
   "name": "python",
   "nbconvert_exporter": "python",
   "pygments_lexer": "ipython3",
   "version": "3.6.9"
  },
  "toc": {
   "base_numbering": 1,
   "nav_menu": {},
   "number_sections": true,
   "sideBar": true,
   "skip_h1_title": false,
   "title_cell": "Table of Contents",
   "title_sidebar": "Contents",
   "toc_cell": false,
   "toc_position": {
    "height": "calc(100% - 180px)",
    "left": "10px",
    "top": "150px",
    "width": "202.167px"
   },
   "toc_section_display": true,
   "toc_window_display": true
  }
 },
 "nbformat": 4,
 "nbformat_minor": 4
}
